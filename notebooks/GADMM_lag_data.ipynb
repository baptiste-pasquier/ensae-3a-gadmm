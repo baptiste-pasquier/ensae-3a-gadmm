{
 "cells": [
  {
   "cell_type": "code",
   "execution_count": 1,
   "metadata": {
    "id": "iV-y9dP1aXoh"
   },
   "outputs": [],
   "source": [
    "import time\n",
    "from threading import Thread\n",
    "\n",
    "import numpy as np\n",
    "import pandas as pd\n",
    "import seaborn as sns\n",
    "from sklearn.decomposition import PCA\n",
    "from sklearn.linear_model import LogisticRegression\n",
    "from sklearn.metrics import log_loss\n",
    "from sklearn.preprocessing import StandardScaler\n",
    "from tqdm.auto import trange\n",
    "\n",
    "from ensae_3a_gadmm.gadmm import display_df_log, gadmm_head_method, gadmm_tail_method\n",
    "from ensae_3a_gadmm.logistic_regression import f\n",
    "\n",
    "t = time.time()"
   ]
  },
  {
   "attachments": {},
   "cell_type": "markdown",
   "metadata": {
    "id": "9ILhh5HXgz9X"
   },
   "source": [
    "## Importation of data\n",
    "\n",
    "Le data provient du repo suivant : https://github.com/chentianyi1991/LAG-code s"
   ]
  },
  {
   "cell_type": "code",
   "execution_count": 2,
   "metadata": {
    "colab": {
     "base_uri": "https://localhost:8080/"
    },
    "id": "TKIyP7O_ifJR",
    "outputId": "0c338bec-48f8-44e6-c4e5-5ea8e5c24518"
   },
   "outputs": [
    {
     "data": {
      "text/plain": [
       "(351, 34)"
      ]
     },
     "execution_count": 2,
     "metadata": {},
     "output_type": "execute_result"
    }
   ],
   "source": [
    "data = np.loadtxt(\"data/data2/data.txt\")\n",
    "data.shape"
   ]
  },
  {
   "cell_type": "code",
   "execution_count": 3,
   "metadata": {
    "colab": {
     "base_uri": "https://localhost:8080/"
    },
    "id": "dfL9fjVYixC4",
    "outputId": "d7ae24d8-600b-4c4f-e086-1f3370de87fc"
   },
   "outputs": [
    {
     "data": {
      "text/plain": [
       "(351,)"
      ]
     },
     "execution_count": 3,
     "metadata": {},
     "output_type": "execute_result"
    }
   ],
   "source": [
    "y = np.loadtxt(\"data/data2/y.txt\", dtype=int)\n",
    "y.shape"
   ]
  },
  {
   "cell_type": "code",
   "execution_count": 4,
   "metadata": {
    "colab": {
     "base_uri": "https://localhost:8080/"
    },
    "id": "KwRKjZQYk5mY",
    "outputId": "6bb2c5a8-e2d6-4f17-e9d0-ee8dac140bb2"
   },
   "outputs": [
    {
     "data": {
      "text/plain": [
       "(351, 2)"
      ]
     },
     "execution_count": 4,
     "metadata": {},
     "output_type": "execute_result"
    }
   ],
   "source": [
    "# StandardScaler : mean of 0 and std of 1\n",
    "scaled_data = StandardScaler().fit_transform(data)\n",
    "\n",
    "pca = PCA(2)\n",
    "pca_data = pca.fit_transform(scaled_data)\n",
    "pca_data.shape"
   ]
  },
  {
   "cell_type": "code",
   "execution_count": 5,
   "metadata": {
    "colab": {
     "base_uri": "https://localhost:8080/",
     "height": 423
    },
    "id": "4N2KU1Lfl-2z",
    "outputId": "a904e35c-4ccf-4bb0-bb2e-cf5b033eb920"
   },
   "outputs": [
    {
     "data": {
      "text/html": [
       "<div>\n",
       "<style scoped>\n",
       "    .dataframe tbody tr th:only-of-type {\n",
       "        vertical-align: middle;\n",
       "    }\n",
       "\n",
       "    .dataframe tbody tr th {\n",
       "        vertical-align: top;\n",
       "    }\n",
       "\n",
       "    .dataframe thead th {\n",
       "        text-align: right;\n",
       "    }\n",
       "</style>\n",
       "<table border=\"1\" class=\"dataframe\">\n",
       "  <thead>\n",
       "    <tr style=\"text-align: right;\">\n",
       "      <th></th>\n",
       "      <th>PC1</th>\n",
       "      <th>PC2</th>\n",
       "      <th>y</th>\n",
       "    </tr>\n",
       "  </thead>\n",
       "  <tbody>\n",
       "    <tr>\n",
       "      <th>0</th>\n",
       "      <td>-1.668242</td>\n",
       "      <td>-2.054597</td>\n",
       "      <td>0</td>\n",
       "    </tr>\n",
       "    <tr>\n",
       "      <th>1</th>\n",
       "      <td>0.823940</td>\n",
       "      <td>-2.583636</td>\n",
       "      <td>1</td>\n",
       "    </tr>\n",
       "    <tr>\n",
       "      <th>2</th>\n",
       "      <td>-2.034095</td>\n",
       "      <td>-0.748245</td>\n",
       "      <td>0</td>\n",
       "    </tr>\n",
       "    <tr>\n",
       "      <th>3</th>\n",
       "      <td>1.252374</td>\n",
       "      <td>1.363326</td>\n",
       "      <td>1</td>\n",
       "    </tr>\n",
       "    <tr>\n",
       "      <th>4</th>\n",
       "      <td>0.017756</td>\n",
       "      <td>-1.845357</td>\n",
       "      <td>0</td>\n",
       "    </tr>\n",
       "    <tr>\n",
       "      <th>...</th>\n",
       "      <td>...</td>\n",
       "      <td>...</td>\n",
       "      <td>...</td>\n",
       "    </tr>\n",
       "    <tr>\n",
       "      <th>346</th>\n",
       "      <td>-3.156856</td>\n",
       "      <td>-0.000433</td>\n",
       "      <td>0</td>\n",
       "    </tr>\n",
       "    <tr>\n",
       "      <th>347</th>\n",
       "      <td>-3.562330</td>\n",
       "      <td>0.324750</td>\n",
       "      <td>0</td>\n",
       "    </tr>\n",
       "    <tr>\n",
       "      <th>348</th>\n",
       "      <td>-3.512043</td>\n",
       "      <td>0.204754</td>\n",
       "      <td>0</td>\n",
       "    </tr>\n",
       "    <tr>\n",
       "      <th>349</th>\n",
       "      <td>-3.308935</td>\n",
       "      <td>-0.343454</td>\n",
       "      <td>0</td>\n",
       "    </tr>\n",
       "    <tr>\n",
       "      <th>350</th>\n",
       "      <td>-2.705653</td>\n",
       "      <td>-0.230427</td>\n",
       "      <td>0</td>\n",
       "    </tr>\n",
       "  </tbody>\n",
       "</table>\n",
       "<p>351 rows × 3 columns</p>\n",
       "</div>"
      ],
      "text/plain": [
       "          PC1       PC2  y\n",
       "0   -1.668242 -2.054597  0\n",
       "1    0.823940 -2.583636  1\n",
       "2   -2.034095 -0.748245  0\n",
       "3    1.252374  1.363326  1\n",
       "4    0.017756 -1.845357  0\n",
       "..        ...       ... ..\n",
       "346 -3.156856 -0.000433  0\n",
       "347 -3.562330  0.324750  0\n",
       "348 -3.512043  0.204754  0\n",
       "349 -3.308935 -0.343454  0\n",
       "350 -2.705653 -0.230427  0\n",
       "\n",
       "[351 rows x 3 columns]"
      ]
     },
     "execution_count": 5,
     "metadata": {},
     "output_type": "execute_result"
    }
   ],
   "source": [
    "pca_df = pd.DataFrame(data=pca_data, columns=[\"PC1\", \"PC2\"])\n",
    "pca_df[\"y\"] = y\n",
    "pca_df"
   ]
  },
  {
   "cell_type": "code",
   "execution_count": 6,
   "metadata": {
    "colab": {
     "base_uri": "https://localhost:8080/",
     "height": 523
    },
    "id": "P1oAAcuNnzFf",
    "outputId": "f859c9f5-a484-4f66-a554-53ecf763515a"
   },
   "outputs": [
    {
     "data": {
      "text/plain": [
       "<seaborn.axisgrid.FacetGrid at 0x292b52320>"
      ]
     },
     "execution_count": 6,
     "metadata": {},
     "output_type": "execute_result"
    },
    {
     "data": {
      "image/png": "[encoded data removed]",
      "text/plain": [
       "<Figure size 558.875x500 with 1 Axes>"
      ]
     },
     "metadata": {},
     "output_type": "display_data"
    }
   ],
   "source": [
    "sns.lmplot(x=\"PC1\", y=\"PC2\", data=pca_df, hue=\"y\", fit_reg=False, legend=True)"
   ]
  },
  {
   "cell_type": "code",
   "execution_count": 7,
   "metadata": {
    "colab": {
     "base_uri": "https://localhost:8080/"
    },
    "id": "9spgCvwyvvy5",
    "outputId": "e13b67a8-c40f-4bd3-b9ed-9de5d6bd9429"
   },
   "outputs": [
    {
     "data": {
      "text/plain": [
       "(351, 35)"
      ]
     },
     "execution_count": 7,
     "metadata": {},
     "output_type": "execute_result"
    }
   ],
   "source": [
    "# Adding an intercept\n",
    "temp_data = np.ones((data.shape[0], data.shape[1] + 1))\n",
    "temp_data[:, 1:] = scaled_data\n",
    "data = temp_data\n",
    "data.shape"
   ]
  },
  {
   "cell_type": "code",
   "execution_count": 8,
   "metadata": {
    "colab": {
     "base_uri": "https://localhost:8080/"
    },
    "id": "beHe4JlpPcNh",
    "outputId": "945bf5be-ae01-4378-c289-d3da829c7df5"
   },
   "outputs": [
    {
     "data": {
      "text/plain": [
       "35"
      ]
     },
     "execution_count": 8,
     "metadata": {},
     "output_type": "execute_result"
    }
   ],
   "source": [
    "d = data.shape[1]\n",
    "d"
   ]
  },
  {
   "attachments": {},
   "cell_type": "markdown",
   "metadata": {
    "id": "2GoH5AGwgnTb"
   },
   "source": [
    "## Logistic Regression"
   ]
  },
  {
   "cell_type": "code",
   "execution_count": 9,
   "metadata": {
    "id": "bArTi6tuxII9"
   },
   "outputs": [],
   "source": [
    "rho = 1"
   ]
  },
  {
   "cell_type": "code",
   "execution_count": 10,
   "metadata": {
    "colab": {
     "base_uri": "https://localhost:8080/"
    },
    "id": "CZvGglLCgxA2",
    "outputId": "aa5e02bb-c39c-4db9-973b-bdcf0160b18e"
   },
   "outputs": [
    {
     "data": {
      "text/plain": [
       "0.9259259259259259"
      ]
     },
     "execution_count": 10,
     "metadata": {},
     "output_type": "execute_result"
    }
   ],
   "source": [
    "clf = LogisticRegression(\n",
    "    penalty=\"l2\", C=rho, fit_intercept=False, solver=\"liblinear\"\n",
    ").fit(data, y)\n",
    "y_pred = clf.predict(data)\n",
    "y_pred_proba = clf.predict_proba(data)\n",
    "clf.score(data, y)  # compute accuracy"
   ]
  },
  {
   "cell_type": "code",
   "execution_count": 11,
   "metadata": {
    "colab": {
     "base_uri": "https://localhost:8080/"
    },
    "id": "JuGwMixzDaIq",
    "outputId": "9923f2d4-e2fa-4b24-ac1d-004eebadff1b"
   },
   "outputs": [
    {
     "data": {
      "text/plain": [
       "array([[-0.16162871, -2.25989579,  0.        , -0.8004997 ,  0.00761144,\n",
       "        -0.99946311, -0.9730252 , -0.54479263, -1.07079607, -0.66992926,\n",
       "        -0.19357204,  0.61352733,  0.18207117,  0.0964342 , -0.3013256 ,\n",
       "        -0.67571157,  0.42383201, -0.09854566, -0.56972128,  0.80706223,\n",
       "        -0.01100896, -0.09950051,  1.3649529 , -0.80355806, -0.40487275,\n",
       "        -0.68251785, -0.18623943,  1.39654551,  0.07158301, -0.53248591,\n",
       "        -0.93991849, -0.53082438,  0.17228759,  0.37834172,  0.86564326]])"
      ]
     },
     "execution_count": 11,
     "metadata": {},
     "output_type": "execute_result"
    }
   ],
   "source": [
    "opt_theta = clf.coef_\n",
    "opt_theta"
   ]
  },
  {
   "cell_type": "code",
   "execution_count": 12,
   "metadata": {
    "colab": {
     "base_uri": "https://localhost:8080/"
    },
    "id": "YI-GvZ-avg03",
    "outputId": "3a1bff6a-4d9d-44db-8aba-43b2177b1e9e"
   },
   "outputs": [
    {
     "data": {
      "text/plain": [
       "0.18694318521111666"
      ]
     },
     "execution_count": 12,
     "metadata": {},
     "output_type": "execute_result"
    }
   ],
   "source": [
    "loss = log_loss(y, y_pred_proba, labels=[0, 1])\n",
    "loss"
   ]
  },
  {
   "attachments": {},
   "cell_type": "markdown",
   "metadata": {
    "id": "hHTvRVU4xSq2"
   },
   "source": [
    "## GADMM not parallelized"
   ]
  },
  {
   "cell_type": "code",
   "execution_count": 13,
   "metadata": {
    "id": "AYeMZYo1xXoT"
   },
   "outputs": [],
   "source": [
    "K = 1000  # number of iterations\n",
    "M = 4  # number of workers\n",
    "rho = 1\n",
    "\n",
    "split_data = np.array_split(data, M)"
   ]
  },
  {
   "cell_type": "code",
   "execution_count": 14,
   "metadata": {
    "colab": {
     "base_uri": "https://localhost:8080/"
    },
    "id": "rtagpZl60m06",
    "outputId": "85b08cc5-c456-4fc4-c2c1-43690bb7bb6d"
   },
   "outputs": [
    {
     "data": {
      "text/plain": [
       "4"
      ]
     },
     "execution_count": 14,
     "metadata": {},
     "output_type": "execute_result"
    }
   ],
   "source": [
    "len(split_data)"
   ]
  },
  {
   "cell_type": "code",
   "execution_count": 15,
   "metadata": {
    "colab": {
     "base_uri": "https://localhost:8080/"
    },
    "id": "uJTyt4Jx2IZs",
    "outputId": "c9b0f4e5-cec0-4568-bf12-3e1b04fbd39a"
   },
   "outputs": [
    {
     "data": {
      "text/plain": [
       "(88, 35)"
      ]
     },
     "execution_count": 15,
     "metadata": {},
     "output_type": "execute_result"
    }
   ],
   "source": [
    "split_data[0].shape"
   ]
  },
  {
   "cell_type": "code",
   "execution_count": 16,
   "metadata": {
    "id": "3jXTgNej20E7"
   },
   "outputs": [],
   "source": [
    "split_y = np.array_split(y, M)"
   ]
  },
  {
   "cell_type": "code",
   "execution_count": 17,
   "metadata": {
    "colab": {
     "base_uri": "https://localhost:8080/"
    },
    "id": "Ng9QtnRI22X3",
    "outputId": "74d3fb49-45d7-4e70-8e4f-bed7c51317df"
   },
   "outputs": [
    {
     "data": {
      "text/plain": [
       "4"
      ]
     },
     "execution_count": 17,
     "metadata": {},
     "output_type": "execute_result"
    }
   ],
   "source": [
    "len(split_y)"
   ]
  },
  {
   "cell_type": "code",
   "execution_count": 18,
   "metadata": {
    "colab": {
     "base_uri": "https://localhost:8080/"
    },
    "id": "cTau8n8924GJ",
    "outputId": "e3e95563-eb3f-4ed2-efc0-1dd9fab6df75"
   },
   "outputs": [
    {
     "data": {
      "text/plain": [
       "(88,)"
      ]
     },
     "execution_count": 18,
     "metadata": {},
     "output_type": "execute_result"
    }
   ],
   "source": [
    "split_y[0].shape"
   ]
  },
  {
   "cell_type": "code",
   "execution_count": 19,
   "metadata": {
    "colab": {
     "base_uri": "https://localhost:8080/"
    },
    "id": "Yr_qUff2FN8z",
    "outputId": "6b1d1ca7-19cb-42f2-b939-37875a33b5ee"
   },
   "outputs": [
    {
     "data": {
      "text/plain": [
       "0.18694318521111672"
      ]
     },
     "execution_count": 19,
     "metadata": {},
     "output_type": "execute_result"
    }
   ],
   "source": [
    "f(opt_theta, data, y)"
   ]
  },
  {
   "attachments": {},
   "cell_type": "markdown",
   "metadata": {
    "id": "Mso66LHSzu0u"
   },
   "source": [
    "On a la même loss qu'avec sklearn, tout va bien !\n",
    "\n",
    "---\n",
    "\n"
   ]
  },
  {
   "cell_type": "code",
   "execution_count": 20,
   "metadata": {
    "colab": {
     "base_uri": "https://localhost:8080/",
     "height": 380
    },
    "id": "6yW8GFKp056z",
    "outputId": "965bfc5f-d988-40ff-b2d9-c6754e4c225f"
   },
   "outputs": [
    {
     "data": {
      "application/vnd.jupyter.widget-view+json": {
       "model_id": "5d099761297648509f6c400b67e2845e",
       "version_major": 2,
       "version_minor": 0
      },
      "text/plain": [
       "  0%|          | 0/1000 [00:00<?, ?it/s]"
      ]
     },
     "metadata": {},
     "output_type": "display_data"
    },
    {
     "name": "stdout",
     "output_type": "stream",
     "text": [
      "Temps : 00:03:37\n"
     ]
    }
   ],
   "source": [
    "# Initialisation\n",
    "Theta = np.zeros((M, d))\n",
    "Lamb = np.zeros((M, d))\n",
    "\n",
    "# Iterative procedure\n",
    "df_log = []\n",
    "\n",
    "t1 = time.time()\n",
    "for k in trange(K):\n",
    "    # Step 1 : head workers\n",
    "    for n in range(M):\n",
    "        if n % 2 == 0:\n",
    "            gadmm_head_method(\n",
    "                sample_data=split_data[n],\n",
    "                sample_y=split_y[n],\n",
    "                lamb=Lamb,\n",
    "                theta=Theta,\n",
    "                m=M,\n",
    "                n=n,\n",
    "                rho=rho,\n",
    "            )\n",
    "\n",
    "    # Step 2 : tail workers\n",
    "    for n in range(M):\n",
    "        if n % 2 == 1:\n",
    "            gadmm_tail_method(\n",
    "                sample_data=split_data[n],\n",
    "                sample_y=split_y[n],\n",
    "                lamb=Lamb,\n",
    "                theta=Theta,\n",
    "                m=M,\n",
    "                n=n,\n",
    "                rho=rho,\n",
    "            )\n",
    "\n",
    "    # Step 3 : Update lambda\n",
    "    for n in range(M - 1):\n",
    "        Lamb[n] = Lamb[n] + rho * (Theta[n] - Theta[n + 1])\n",
    "\n",
    "    for n in range(M):\n",
    "        df_log.append(\n",
    "            {\n",
    "                \"iteration\": k,\n",
    "                \"worker\": n,\n",
    "                \"theta diff norm\": np.linalg.norm(Theta[n] - opt_theta),\n",
    "                \"loss\": f(Theta[n], data, y),\n",
    "            }\n",
    "        )\n",
    "\n",
    "df_log = pd.DataFrame(df_log)\n",
    "\n",
    "print(f\"Temps : {time.strftime('%H:%M:%S', time.gmtime(time.time()-t1))}\")"
   ]
  },
  {
   "cell_type": "code",
   "execution_count": 21,
   "metadata": {
    "colab": {
     "base_uri": "https://localhost:8080/"
    },
    "id": "wfz1ht3sK4N5",
    "outputId": "2a908206-1d32-47d9-f9e6-e59e15c77a4a"
   },
   "outputs": [
    {
     "data": {
      "text/plain": [
       "array([ 8.97247388e-01, -5.10586337e+00, -1.48804273e-05, -9.17581421e-01,\n",
       "        3.47769607e-01, -1.81002400e+00, -1.56723330e+00, -4.81864488e-01,\n",
       "       -1.78199053e+00, -1.37569508e+00, -2.53737511e-01,  1.81661435e+00,\n",
       "        5.27827391e-01,  2.29022425e-01, -1.84603803e-01, -1.75592769e+00,\n",
       "        1.38509041e+00, -3.31388400e-01, -1.09974904e+00,  2.44896548e+00,\n",
       "       -6.67204073e-02, -1.13132928e-01,  1.68837815e+00, -1.55436923e+00,\n",
       "       -8.09116086e-01, -1.16268928e+00,  7.32705502e-02,  2.58681519e+00,\n",
       "        4.78178922e-02, -1.15475496e+00, -1.94933557e+00, -7.97707582e-01,\n",
       "        5.15043833e-03,  2.34375782e-01,  1.46952620e+00])"
      ]
     },
     "execution_count": 21,
     "metadata": {},
     "output_type": "execute_result"
    }
   ],
   "source": [
    "Theta[0]"
   ]
  },
  {
   "cell_type": "code",
   "execution_count": 22,
   "metadata": {},
   "outputs": [
    {
     "data": {
      "image/png": "[encoded data removed]",
      "text/plain": [
       "<Figure size 640x480 with 1 Axes>"
      ]
     },
     "metadata": {},
     "output_type": "display_data"
    },
    {
     "data": {
      "image/png": "[encoded data removed]",
      "text/plain": [
       "<Figure size 640x480 with 1 Axes>"
      ]
     },
     "metadata": {},
     "output_type": "display_data"
    },
    {
     "data": {
      "text/html": [
       "<div>\n",
       "<style scoped>\n",
       "    .dataframe tbody tr th:only-of-type {\n",
       "        vertical-align: middle;\n",
       "    }\n",
       "\n",
       "    .dataframe tbody tr th {\n",
       "        vertical-align: top;\n",
       "    }\n",
       "\n",
       "    .dataframe thead th {\n",
       "        text-align: right;\n",
       "    }\n",
       "</style>\n",
       "<table border=\"1\" class=\"dataframe\">\n",
       "  <thead>\n",
       "    <tr style=\"text-align: right;\">\n",
       "      <th></th>\n",
       "      <th>worker</th>\n",
       "      <th>theta diff norm</th>\n",
       "      <th>loss</th>\n",
       "    </tr>\n",
       "  </thead>\n",
       "  <tbody>\n",
       "    <tr>\n",
       "      <th>0</th>\n",
       "      <td>0</td>\n",
       "      <td>4.746865</td>\n",
       "      <td>0.161873</td>\n",
       "    </tr>\n",
       "    <tr>\n",
       "      <th>1</th>\n",
       "      <td>1</td>\n",
       "      <td>4.746866</td>\n",
       "      <td>0.161873</td>\n",
       "    </tr>\n",
       "    <tr>\n",
       "      <th>2</th>\n",
       "      <td>2</td>\n",
       "      <td>4.746868</td>\n",
       "      <td>0.161873</td>\n",
       "    </tr>\n",
       "    <tr>\n",
       "      <th>3</th>\n",
       "      <td>3</td>\n",
       "      <td>4.746867</td>\n",
       "      <td>0.161873</td>\n",
       "    </tr>\n",
       "  </tbody>\n",
       "</table>\n",
       "</div>"
      ],
      "text/plain": [
       "   worker  theta diff norm      loss\n",
       "0       0         4.746865  0.161873\n",
       "1       1         4.746866  0.161873\n",
       "2       2         4.746868  0.161873\n",
       "3       3         4.746867  0.161873"
      ]
     },
     "metadata": {},
     "output_type": "display_data"
    }
   ],
   "source": [
    "display_df_log(df_log, data, y, M, Theta, opt_theta)"
   ]
  },
  {
   "attachments": {},
   "cell_type": "markdown",
   "metadata": {},
   "source": [
    "## Multithreading"
   ]
  },
  {
   "cell_type": "code",
   "execution_count": 23,
   "metadata": {},
   "outputs": [
    {
     "data": {
      "application/vnd.jupyter.widget-view+json": {
       "model_id": "755be1f370f64f038e978ffbf9d80201",
       "version_major": 2,
       "version_minor": 0
      },
      "text/plain": [
       "  0%|          | 0/1000 [00:00<?, ?it/s]"
      ]
     },
     "metadata": {},
     "output_type": "display_data"
    },
    {
     "name": "stdout",
     "output_type": "stream",
     "text": [
      "Temps : 00:04:17\n"
     ]
    }
   ],
   "source": [
    "# Initialisation\n",
    "Theta = np.zeros((M, d))\n",
    "Lamb = np.zeros((M, d))\n",
    "\n",
    "# Iterative procedure\n",
    "df_log = []\n",
    "\n",
    "t1 = time.time()\n",
    "for k in trange(K):\n",
    "    # Step 1 : head workers\n",
    "    threads = []\n",
    "    for n in range(M):\n",
    "        if n % 2 == 0:\n",
    "            thread = Thread(\n",
    "                target=gadmm_head_method,\n",
    "                args=(split_data[n], split_y[n], Lamb, Theta, M, n, rho),\n",
    "            )\n",
    "            threads.append(thread)\n",
    "            thread.start()\n",
    "\n",
    "    for thread in threads:\n",
    "        thread.join()\n",
    "\n",
    "    # Step 2 : tail workers\n",
    "    threads = []\n",
    "    for n in range(M):\n",
    "        if n % 2 == 1:\n",
    "            thread = Thread(\n",
    "                target=gadmm_tail_method,\n",
    "                args=(split_data[n], split_y[n], Lamb, Theta, M, n, rho),\n",
    "            )\n",
    "            threads.append(thread)\n",
    "            thread.start()\n",
    "\n",
    "    for thread in threads:\n",
    "        thread.join()\n",
    "\n",
    "    # Step 3 : Update lambda\n",
    "    for n in range(M - 1):\n",
    "        Lamb[n] = Lamb[n] + rho * (Theta[n] - Theta[n + 1])\n",
    "\n",
    "    for n in range(M):\n",
    "        df_log.append(\n",
    "            {\n",
    "                \"iteration\": k,\n",
    "                \"worker\": n,\n",
    "                \"theta diff norm\": np.linalg.norm(Theta[n] - opt_theta),\n",
    "                \"loss\": f(Theta[n], data, y),\n",
    "            }\n",
    "        )\n",
    "\n",
    "df_log = pd.DataFrame(df_log)\n",
    "\n",
    "print(f\"Temps : {time.strftime('%H:%M:%S', time.gmtime(time.time()-t1))}\")"
   ]
  },
  {
   "cell_type": "code",
   "execution_count": 24,
   "metadata": {},
   "outputs": [
    {
     "data": {
      "text/plain": [
       "array([ 8.97247388e-01, -5.10586337e+00, -1.48804273e-05, -9.17581421e-01,\n",
       "        3.47769607e-01, -1.81002400e+00, -1.56723330e+00, -4.81864488e-01,\n",
       "       -1.78199053e+00, -1.37569508e+00, -2.53737511e-01,  1.81661435e+00,\n",
       "        5.27827391e-01,  2.29022425e-01, -1.84603803e-01, -1.75592769e+00,\n",
       "        1.38509041e+00, -3.31388400e-01, -1.09974904e+00,  2.44896548e+00,\n",
       "       -6.67204073e-02, -1.13132928e-01,  1.68837815e+00, -1.55436923e+00,\n",
       "       -8.09116086e-01, -1.16268928e+00,  7.32705502e-02,  2.58681519e+00,\n",
       "        4.78178922e-02, -1.15475496e+00, -1.94933557e+00, -7.97707582e-01,\n",
       "        5.15043833e-03,  2.34375782e-01,  1.46952620e+00])"
      ]
     },
     "execution_count": 24,
     "metadata": {},
     "output_type": "execute_result"
    }
   ],
   "source": [
    "Theta[0]"
   ]
  },
  {
   "cell_type": "code",
   "execution_count": 25,
   "metadata": {},
   "outputs": [
    {
     "data": {
      "image/png": "[encoded data removed]",
      "text/plain": [
       "<Figure size 640x480 with 1 Axes>"
      ]
     },
     "metadata": {},
     "output_type": "display_data"
    },
    {
     "data": {
      "image/png": "[encoded data removed]",
      "text/plain": [
       "<Figure size 640x480 with 1 Axes>"
      ]
     },
     "metadata": {},
     "output_type": "display_data"
    },
    {
     "data": {
      "text/html": [
       "<div>\n",
       "<style scoped>\n",
       "    .dataframe tbody tr th:only-of-type {\n",
       "        vertical-align: middle;\n",
       "    }\n",
       "\n",
       "    .dataframe tbody tr th {\n",
       "        vertical-align: top;\n",
       "    }\n",
       "\n",
       "    .dataframe thead th {\n",
       "        text-align: right;\n",
       "    }\n",
       "</style>\n",
       "<table border=\"1\" class=\"dataframe\">\n",
       "  <thead>\n",
       "    <tr style=\"text-align: right;\">\n",
       "      <th></th>\n",
       "      <th>worker</th>\n",
       "      <th>theta diff norm</th>\n",
       "      <th>loss</th>\n",
       "    </tr>\n",
       "  </thead>\n",
       "  <tbody>\n",
       "    <tr>\n",
       "      <th>0</th>\n",
       "      <td>0</td>\n",
       "      <td>4.746865</td>\n",
       "      <td>0.161873</td>\n",
       "    </tr>\n",
       "    <tr>\n",
       "      <th>1</th>\n",
       "      <td>1</td>\n",
       "      <td>4.746866</td>\n",
       "      <td>0.161873</td>\n",
       "    </tr>\n",
       "    <tr>\n",
       "      <th>2</th>\n",
       "      <td>2</td>\n",
       "      <td>4.746868</td>\n",
       "      <td>0.161873</td>\n",
       "    </tr>\n",
       "    <tr>\n",
       "      <th>3</th>\n",
       "      <td>3</td>\n",
       "      <td>4.746867</td>\n",
       "      <td>0.161873</td>\n",
       "    </tr>\n",
       "  </tbody>\n",
       "</table>\n",
       "</div>"
      ],
      "text/plain": [
       "   worker  theta diff norm      loss\n",
       "0       0         4.746865  0.161873\n",
       "1       1         4.746866  0.161873\n",
       "2       2         4.746868  0.161873\n",
       "3       3         4.746867  0.161873"
      ]
     },
     "metadata": {},
     "output_type": "display_data"
    }
   ],
   "source": [
    "display_df_log(df_log, data, y, M, Theta, opt_theta)"
   ]
  },
  {
   "cell_type": "code",
   "execution_count": 26,
   "metadata": {},
   "outputs": [
    {
     "name": "stdout",
     "output_type": "stream",
     "text": [
      "Temps d'exécution total : 00:07:56\n"
     ]
    }
   ],
   "source": [
    "print(\n",
    "    f\"Temps d'exécution total : {time.strftime('%H:%M:%S', time.gmtime(time.time()-t))}\"\n",
    ")"
   ]
  },
  {
   "cell_type": "code",
   "execution_count": null,
   "metadata": {},
   "outputs": [],
   "source": []
  }
 ],
 "metadata": {
  "colab": {
   "provenance": []
  },
  "kernelspec": {
   "display_name": "Python 3",
   "name": "python3"
  },
  "language_info": {
   "codemirror_mode": {
    "name": "ipython",
    "version": 3
   },
   "file_extension": ".py",
   "mimetype": "text/x-python",
   "name": "python",
   "nbconvert_exporter": "python",
   "pygments_lexer": "ipython3",
   "version": "3.10.11"
  }
 },
 "nbformat": 4,
 "nbformat_minor": 0
}
