{
 "cells": [
  {
   "cell_type": "code",
   "execution_count": 1,
   "metadata": {
    "id": "iV-y9dP1aXoh"
   },
   "outputs": [],
   "source": [
    "import matplotlib.pyplot as plt\n",
    "import numpy as np\n",
    "import pandas as pd\n",
    "import seaborn as sns\n",
    "from scipy.optimize import minimize\n",
    "from sklearn.decomposition import PCA\n",
    "from sklearn.linear_model import LogisticRegression\n",
    "from sklearn.metrics import log_loss\n",
    "from sklearn.preprocessing import StandardScaler\n",
    "from tqdm.auto import trange"
   ]
  },
  {
   "attachments": {},
   "cell_type": "markdown",
   "metadata": {
    "id": "9ILhh5HXgz9X"
   },
   "source": [
    "## Importation of data\n",
    "\n",
    "Le data provient du repo suivant : https://github.com/chentianyi1991/LAG-code s"
   ]
  },
  {
   "cell_type": "code",
   "execution_count": 2,
   "metadata": {
    "colab": {
     "base_uri": "https://localhost:8080/"
    },
    "id": "TKIyP7O_ifJR",
    "outputId": "0c338bec-48f8-44e6-c4e5-5ea8e5c24518"
   },
   "outputs": [
    {
     "data": {
      "text/plain": [
       "(351, 34)"
      ]
     },
     "execution_count": 2,
     "metadata": {},
     "output_type": "execute_result"
    }
   ],
   "source": [
    "data = np.loadtxt(\"data/data2/data.txt\")\n",
    "data.shape"
   ]
  },
  {
   "cell_type": "code",
   "execution_count": 3,
   "metadata": {
    "colab": {
     "base_uri": "https://localhost:8080/"
    },
    "id": "dfL9fjVYixC4",
    "outputId": "d7ae24d8-600b-4c4f-e086-1f3370de87fc"
   },
   "outputs": [
    {
     "data": {
      "text/plain": [
       "(351,)"
      ]
     },
     "execution_count": 3,
     "metadata": {},
     "output_type": "execute_result"
    }
   ],
   "source": [
    "y = np.loadtxt(\"data/data2/y.txt\", dtype=int)\n",
    "y.shape"
   ]
  },
  {
   "cell_type": "code",
   "execution_count": 4,
   "metadata": {
    "colab": {
     "base_uri": "https://localhost:8080/"
    },
    "id": "KwRKjZQYk5mY",
    "outputId": "6bb2c5a8-e2d6-4f17-e9d0-ee8dac140bb2"
   },
   "outputs": [
    {
     "data": {
      "text/plain": [
       "(351, 2)"
      ]
     },
     "execution_count": 4,
     "metadata": {},
     "output_type": "execute_result"
    }
   ],
   "source": [
    "# StandardScaler : mean of 0 and std of 1\n",
    "scaled_data = StandardScaler().fit_transform(data)\n",
    "\n",
    "pca = PCA(2)\n",
    "pca_data = pca.fit_transform(data)\n",
    "pca_data.shape"
   ]
  },
  {
   "cell_type": "code",
   "execution_count": 5,
   "metadata": {
    "colab": {
     "base_uri": "https://localhost:8080/",
     "height": 423
    },
    "id": "4N2KU1Lfl-2z",
    "outputId": "a904e35c-4ccf-4bb0-bb2e-cf5b033eb920"
   },
   "outputs": [
    {
     "data": {
      "text/html": [
       "<div>\n",
       "<style scoped>\n",
       "    .dataframe tbody tr th:only-of-type {\n",
       "        vertical-align: middle;\n",
       "    }\n",
       "\n",
       "    .dataframe tbody tr th {\n",
       "        vertical-align: top;\n",
       "    }\n",
       "\n",
       "    .dataframe thead th {\n",
       "        text-align: right;\n",
       "    }\n",
       "</style>\n",
       "<table border=\"1\" class=\"dataframe\">\n",
       "  <thead>\n",
       "    <tr style=\"text-align: right;\">\n",
       "      <th></th>\n",
       "      <th>PC1</th>\n",
       "      <th>PC2</th>\n",
       "      <th>y</th>\n",
       "    </tr>\n",
       "  </thead>\n",
       "  <tbody>\n",
       "    <tr>\n",
       "      <th>0</th>\n",
       "      <td>-0.867272</td>\n",
       "      <td>-0.958255</td>\n",
       "      <td>0</td>\n",
       "    </tr>\n",
       "    <tr>\n",
       "      <th>1</th>\n",
       "      <td>0.758003</td>\n",
       "      <td>-1.062097</td>\n",
       "      <td>1</td>\n",
       "    </tr>\n",
       "    <tr>\n",
       "      <th>2</th>\n",
       "      <td>-1.125716</td>\n",
       "      <td>-0.387570</td>\n",
       "      <td>0</td>\n",
       "    </tr>\n",
       "    <tr>\n",
       "      <th>3</th>\n",
       "      <td>0.973920</td>\n",
       "      <td>0.591342</td>\n",
       "      <td>1</td>\n",
       "    </tr>\n",
       "    <tr>\n",
       "      <th>4</th>\n",
       "      <td>0.122603</td>\n",
       "      <td>-0.782209</td>\n",
       "      <td>0</td>\n",
       "    </tr>\n",
       "    <tr>\n",
       "      <th>...</th>\n",
       "      <td>...</td>\n",
       "      <td>...</td>\n",
       "      <td>...</td>\n",
       "    </tr>\n",
       "    <tr>\n",
       "      <th>346</th>\n",
       "      <td>-1.819980</td>\n",
       "      <td>-0.083363</td>\n",
       "      <td>0</td>\n",
       "    </tr>\n",
       "    <tr>\n",
       "      <th>347</th>\n",
       "      <td>-2.054370</td>\n",
       "      <td>0.067011</td>\n",
       "      <td>0</td>\n",
       "    </tr>\n",
       "    <tr>\n",
       "      <th>348</th>\n",
       "      <td>-2.016985</td>\n",
       "      <td>0.009466</td>\n",
       "      <td>0</td>\n",
       "    </tr>\n",
       "    <tr>\n",
       "      <th>349</th>\n",
       "      <td>-1.885884</td>\n",
       "      <td>-0.255541</td>\n",
       "      <td>0</td>\n",
       "    </tr>\n",
       "    <tr>\n",
       "      <th>350</th>\n",
       "      <td>-1.556415</td>\n",
       "      <td>-0.184807</td>\n",
       "      <td>0</td>\n",
       "    </tr>\n",
       "  </tbody>\n",
       "</table>\n",
       "<p>351 rows × 3 columns</p>\n",
       "</div>"
      ],
      "text/plain": [
       "          PC1       PC2  y\n",
       "0   -0.867272 -0.958255  0\n",
       "1    0.758003 -1.062097  1\n",
       "2   -1.125716 -0.387570  0\n",
       "3    0.973920  0.591342  1\n",
       "4    0.122603 -0.782209  0\n",
       "..        ...       ... ..\n",
       "346 -1.819980 -0.083363  0\n",
       "347 -2.054370  0.067011  0\n",
       "348 -2.016985  0.009466  0\n",
       "349 -1.885884 -0.255541  0\n",
       "350 -1.556415 -0.184807  0\n",
       "\n",
       "[351 rows x 3 columns]"
      ]
     },
     "execution_count": 5,
     "metadata": {},
     "output_type": "execute_result"
    }
   ],
   "source": [
    "pca_df = pd.DataFrame(data=pca_data, columns=[\"PC1\", \"PC2\"])\n",
    "pca_df[\"y\"] = y\n",
    "pca_df"
   ]
  },
  {
   "cell_type": "code",
   "execution_count": 6,
   "metadata": {
    "colab": {
     "base_uri": "https://localhost:8080/",
     "height": 523
    },
    "id": "P1oAAcuNnzFf",
    "outputId": "f859c9f5-a484-4f66-a554-53ecf763515a"
   },
   "outputs": [
    {
     "data": {
      "text/plain": [
       "<seaborn.axisgrid.FacetGrid at 0x22cd47573a0>"
      ]
     },
     "execution_count": 6,
     "metadata": {},
     "output_type": "execute_result"
    },
    {
     "data": {
      "image/png": "[encoded data removed]",
      "text/plain": [
       "<Figure size 558.875x500 with 1 Axes>"
      ]
     },
     "metadata": {},
     "output_type": "display_data"
    }
   ],
   "source": [
    "sns.lmplot(x=\"PC1\", y=\"PC2\", data=pca_df, hue=\"y\", fit_reg=False, legend=True)"
   ]
  },
  {
   "cell_type": "code",
   "execution_count": 7,
   "metadata": {
    "colab": {
     "base_uri": "https://localhost:8080/"
    },
    "id": "9spgCvwyvvy5",
    "outputId": "e13b67a8-c40f-4bd3-b9ed-9de5d6bd9429"
   },
   "outputs": [
    {
     "data": {
      "text/plain": [
       "(351, 35)"
      ]
     },
     "execution_count": 7,
     "metadata": {},
     "output_type": "execute_result"
    }
   ],
   "source": [
    "# Adding an intercept\n",
    "temp_data = np.ones((data.shape[0], data.shape[1] + 1))\n",
    "temp_data[:, 1:] = data\n",
    "data = temp_data\n",
    "data.shape"
   ]
  },
  {
   "cell_type": "code",
   "execution_count": 8,
   "metadata": {
    "colab": {
     "base_uri": "https://localhost:8080/"
    },
    "id": "beHe4JlpPcNh",
    "outputId": "945bf5be-ae01-4378-c289-d3da829c7df5"
   },
   "outputs": [
    {
     "data": {
      "text/plain": [
       "35"
      ]
     },
     "execution_count": 8,
     "metadata": {},
     "output_type": "execute_result"
    }
   ],
   "source": [
    "d = data.shape[1]\n",
    "d"
   ]
  },
  {
   "attachments": {},
   "cell_type": "markdown",
   "metadata": {
    "id": "2GoH5AGwgnTb"
   },
   "source": [
    "## Logistic Regression"
   ]
  },
  {
   "cell_type": "code",
   "execution_count": 9,
   "metadata": {
    "id": "bArTi6tuxII9"
   },
   "outputs": [],
   "source": [
    "rho = 1"
   ]
  },
  {
   "cell_type": "code",
   "execution_count": 10,
   "metadata": {
    "colab": {
     "base_uri": "https://localhost:8080/"
    },
    "id": "CZvGglLCgxA2",
    "outputId": "aa5e02bb-c39c-4db9-973b-bdcf0160b18e"
   },
   "outputs": [
    {
     "data": {
      "text/plain": [
       "0.9173789173789174"
      ]
     },
     "execution_count": 10,
     "metadata": {},
     "output_type": "execute_result"
    }
   ],
   "source": [
    "clf = LogisticRegression(\n",
    "    penalty=\"l2\", C=rho, fit_intercept=False, solver=\"liblinear\"\n",
    ").fit(data, y)\n",
    "y_pred = clf.predict(data)\n",
    "y_pred_proba = clf.predict_proba(data)\n",
    "clf.score(data, y)  # compute accuracy"
   ]
  },
  {
   "cell_type": "code",
   "execution_count": 11,
   "metadata": {
    "colab": {
     "base_uri": "https://localhost:8080/"
    },
    "id": "JuGwMixzDaIq",
    "outputId": "9923f2d4-e2fa-4b24-ac1d-004eebadff1b"
   },
   "outputs": [
    {
     "data": {
      "text/plain": [
       "array([[ 3.04249901, -1.72424855,  0.        , -1.18907274, -0.37181708,\n",
       "        -1.43032952, -1.10915357, -0.77681737, -1.28893777, -0.89537906,\n",
       "        -0.25158944,  0.66021331,  0.15589249,  0.26879339, -0.51583684,\n",
       "        -0.58910584,  0.24015313, -0.07112989, -0.64417666,  0.63878569,\n",
       "        -0.06557567, -0.15942653,  1.76346952, -0.88590121, -0.45129751,\n",
       "        -0.65804062, -0.45602977,  1.80769733,  0.1088636 , -0.51493269,\n",
       "        -0.90442969, -0.6340666 ,  0.23134998,  0.3236267 ,  1.13257126]])"
      ]
     },
     "execution_count": 11,
     "metadata": {},
     "output_type": "execute_result"
    }
   ],
   "source": [
    "opt_theta = clf.coef_\n",
    "opt_theta"
   ]
  },
  {
   "cell_type": "code",
   "execution_count": 12,
   "metadata": {
    "colab": {
     "base_uri": "https://localhost:8080/"
    },
    "id": "YI-GvZ-avg03",
    "outputId": "3a1bff6a-4d9d-44db-8aba-43b2177b1e9e"
   },
   "outputs": [
    {
     "data": {
      "text/plain": [
       "0.2274219719721609"
      ]
     },
     "execution_count": 12,
     "metadata": {},
     "output_type": "execute_result"
    }
   ],
   "source": [
    "loss = log_loss(y, y_pred_proba, labels=[0, 1])\n",
    "loss"
   ]
  },
  {
   "attachments": {},
   "cell_type": "markdown",
   "metadata": {
    "id": "hHTvRVU4xSq2"
   },
   "source": [
    "## GADMM not parallelized"
   ]
  },
  {
   "cell_type": "code",
   "execution_count": 13,
   "metadata": {
    "id": "AYeMZYo1xXoT"
   },
   "outputs": [],
   "source": [
    "K = 500  # number of iterations\n",
    "M = 8  # number of workers\n",
    "rho = 1\n",
    "\n",
    "split_data = np.array_split(data, M)"
   ]
  },
  {
   "cell_type": "code",
   "execution_count": 14,
   "metadata": {
    "colab": {
     "base_uri": "https://localhost:8080/"
    },
    "id": "rtagpZl60m06",
    "outputId": "85b08cc5-c456-4fc4-c2c1-43690bb7bb6d"
   },
   "outputs": [
    {
     "data": {
      "text/plain": [
       "8"
      ]
     },
     "execution_count": 14,
     "metadata": {},
     "output_type": "execute_result"
    }
   ],
   "source": [
    "len(split_data)"
   ]
  },
  {
   "cell_type": "code",
   "execution_count": 15,
   "metadata": {
    "colab": {
     "base_uri": "https://localhost:8080/"
    },
    "id": "uJTyt4Jx2IZs",
    "outputId": "c9b0f4e5-cec0-4568-bf12-3e1b04fbd39a"
   },
   "outputs": [
    {
     "data": {
      "text/plain": [
       "(44, 35)"
      ]
     },
     "execution_count": 15,
     "metadata": {},
     "output_type": "execute_result"
    }
   ],
   "source": [
    "split_data[0].shape"
   ]
  },
  {
   "cell_type": "code",
   "execution_count": 16,
   "metadata": {
    "id": "3jXTgNej20E7"
   },
   "outputs": [],
   "source": [
    "split_y = np.array_split(y, M)"
   ]
  },
  {
   "cell_type": "code",
   "execution_count": 17,
   "metadata": {
    "colab": {
     "base_uri": "https://localhost:8080/"
    },
    "id": "Ng9QtnRI22X3",
    "outputId": "74d3fb49-45d7-4e70-8e4f-bed7c51317df"
   },
   "outputs": [
    {
     "data": {
      "text/plain": [
       "8"
      ]
     },
     "execution_count": 17,
     "metadata": {},
     "output_type": "execute_result"
    }
   ],
   "source": [
    "len(split_y)"
   ]
  },
  {
   "cell_type": "code",
   "execution_count": 18,
   "metadata": {
    "colab": {
     "base_uri": "https://localhost:8080/"
    },
    "id": "cTau8n8924GJ",
    "outputId": "e3e95563-eb3f-4ed2-efc0-1dd9fab6df75"
   },
   "outputs": [
    {
     "data": {
      "text/plain": [
       "(44,)"
      ]
     },
     "execution_count": 18,
     "metadata": {},
     "output_type": "execute_result"
    }
   ],
   "source": [
    "split_y[0].shape"
   ]
  },
  {
   "cell_type": "code",
   "execution_count": 19,
   "metadata": {
    "id": "y7v-CXHRIosm"
   },
   "outputs": [],
   "source": [
    "def sigmoid(x):\n",
    "    return 1 / (1 + np.exp(-x))"
   ]
  },
  {
   "cell_type": "code",
   "execution_count": 20,
   "metadata": {
    "id": "xLxyJSNt2DcE"
   },
   "outputs": [],
   "source": [
    "def f(theta, sample_data, sample_y):\n",
    "    proba_pred = [\n",
    "        sigmoid(np.inner(theta, sample_data[i])) for i in range(len(sample_y))\n",
    "    ]\n",
    "    # y_pred = [int(proba>0.5) for proba in proba_pred]\n",
    "\n",
    "    return log_loss(sample_y, proba_pred, labels=[0, 1])"
   ]
  },
  {
   "cell_type": "code",
   "execution_count": 21,
   "metadata": {
    "colab": {
     "base_uri": "https://localhost:8080/"
    },
    "id": "Yr_qUff2FN8z",
    "outputId": "6b1d1ca7-19cb-42f2-b939-37875a33b5ee"
   },
   "outputs": [
    {
     "data": {
      "text/plain": [
       "0.2274219719721609"
      ]
     },
     "execution_count": 21,
     "metadata": {},
     "output_type": "execute_result"
    }
   ],
   "source": [
    "f(opt_theta, data, y)"
   ]
  },
  {
   "attachments": {},
   "cell_type": "markdown",
   "metadata": {
    "id": "Mso66LHSzu0u"
   },
   "source": [
    "On a la même loss qu'avec sklearn, tout va bien !\n",
    "\n",
    "---\n",
    "\n"
   ]
  },
  {
   "cell_type": "code",
   "execution_count": 22,
   "metadata": {},
   "outputs": [],
   "source": [
    "# Initialisation\n",
    "Theta = np.zeros((M, d))\n",
    "Lamb = np.zeros((M, d))\n",
    "\n",
    "\n",
    "def objective_function(\n",
    "    theta_n,\n",
    "    sample_data,\n",
    "    sample_y,\n",
    "    lamb_n,\n",
    "    lamb_n_minus_1,\n",
    "    theta_n_minus_1,\n",
    "    theta_n_plus_1,\n",
    "    rho,\n",
    "):\n",
    "    resul = f(theta_n, sample_data, sample_y)\n",
    "    if theta_n_minus_1 is not None:\n",
    "        resul += lamb_n_minus_1 @ (theta_n_minus_1 - theta_n)\n",
    "        resul += (rho / 2) * ((theta_n_minus_1 - theta_n) ** 2).sum()\n",
    "    if theta_n_plus_1 is not None:\n",
    "        resul += lamb_n @ (theta_n - theta_n_plus_1)\n",
    "        resul += (rho / 2) * ((theta_n - theta_n_plus_1) ** 2).sum()\n",
    "\n",
    "    return resul"
   ]
  },
  {
   "cell_type": "code",
   "execution_count": 23,
   "metadata": {
    "colab": {
     "base_uri": "https://localhost:8080/",
     "height": 380
    },
    "id": "6yW8GFKp056z",
    "outputId": "965bfc5f-d988-40ff-b2d9-c6754e4c225f"
   },
   "outputs": [
    {
     "data": {
      "application/vnd.jupyter.widget-view+json": {
       "model_id": "e21a1cf857004a96884148fa3abd7f45",
       "version_major": 2,
       "version_minor": 0
      },
      "text/plain": [
       "  0%|          | 0/500 [00:00<?, ?it/s]"
      ]
     },
     "metadata": {},
     "output_type": "display_data"
    }
   ],
   "source": [
    "# Iterative procedure\n",
    "df_log = []\n",
    "\n",
    "for k in trange(K):\n",
    "    # Step 1 : head workers\n",
    "    for n in range(M):\n",
    "        if n % 2 == 0:\n",
    "            sample_data = split_data[n]\n",
    "            sample_y = split_y[n]\n",
    "            lamb_n = Lamb[n]\n",
    "            lamb_n_minus_1 = Lamb[n - 1] if n > 0 else None\n",
    "            theta_n_minus_1 = Theta[n - 1] if n > 0 else None\n",
    "            theta_n_plus_1 = Theta[n + 1] if n < M else None\n",
    "            res = minimize(\n",
    "                objective_function,\n",
    "                x0=Theta[n],\n",
    "                args=(\n",
    "                    sample_data,\n",
    "                    sample_y,\n",
    "                    lamb_n,\n",
    "                    lamb_n_minus_1,\n",
    "                    theta_n_minus_1,\n",
    "                    theta_n_plus_1,\n",
    "                    rho,\n",
    "                ),\n",
    "            )\n",
    "            Theta[n] = res.x\n",
    "\n",
    "    # Step 2 : tail workers\n",
    "    for n in range(M):\n",
    "        if n % 2 == 1:\n",
    "            sample_data = split_data[n]\n",
    "            sample_y = split_y[n]\n",
    "            lamb_n = Lamb[n]\n",
    "            lamb_n_minus_1 = Lamb[n - 1] if n > 0 else None\n",
    "            theta_n_minus_1 = Theta[n - 1] if n > 0 else None\n",
    "            theta_n_plus_1 = Theta[n + 1] if n < M - 1 else None\n",
    "            res = minimize(\n",
    "                objective_function,\n",
    "                x0=Theta[n],\n",
    "                args=(\n",
    "                    sample_data,\n",
    "                    sample_y,\n",
    "                    lamb_n,\n",
    "                    lamb_n_minus_1,\n",
    "                    theta_n_minus_1,\n",
    "                    theta_n_plus_1,\n",
    "                    rho,\n",
    "                ),\n",
    "            )\n",
    "            Theta[n] = res.x\n",
    "\n",
    "    # Step 3 : Update lambda\n",
    "    for n in range(M - 1):\n",
    "        Lamb[n] = Lamb[n] + rho * (Theta[n] - Theta[n + 1])\n",
    "\n",
    "    for n in range(M):\n",
    "        df_log.append(\n",
    "            {\n",
    "                \"iteration\": k,\n",
    "                \"worker\": n,\n",
    "                \"theta diff norm\": np.linalg.norm(Theta[n] - opt_theta),\n",
    "                \"loss\": f(Theta[n], data, y),\n",
    "            }\n",
    "        )\n",
    "\n",
    "df_log = pd.DataFrame(df_log)"
   ]
  },
  {
   "cell_type": "code",
   "execution_count": 24,
   "metadata": {},
   "outputs": [
    {
     "data": {
      "image/png": "[encoded data removed]",
      "text/plain": [
       "<Figure size 640x480 with 1 Axes>"
      ]
     },
     "metadata": {},
     "output_type": "display_data"
    }
   ],
   "source": [
    "sns.lineplot(x=\"iteration\", y=\"theta diff norm\", data=df_log, hue=\"worker\")\n",
    "plt.grid()"
   ]
  },
  {
   "cell_type": "code",
   "execution_count": 25,
   "metadata": {},
   "outputs": [
    {
     "data": {
      "image/png": "[encoded data removed]",
      "text/plain": [
       "<Figure size 640x480 with 1 Axes>"
      ]
     },
     "metadata": {},
     "output_type": "display_data"
    }
   ],
   "source": [
    "sns.lineplot(x=\"iteration\", y=\"loss\", data=df_log, hue=\"worker\")\n",
    "plt.grid()"
   ]
  },
  {
   "cell_type": "code",
   "execution_count": 26,
   "metadata": {
    "colab": {
     "base_uri": "https://localhost:8080/"
    },
    "id": "wfz1ht3sK4N5",
    "outputId": "2a908206-1d32-47d9-f9e6-e59e15c77a4a"
   },
   "outputs": [
    {
     "data": {
      "text/plain": [
       "array([ 4.99133386e+00, -2.97214427e+00, -7.44485422e-06, -1.54414145e+00,\n",
       "       -2.35187847e-01, -2.09890618e+00, -1.95548896e+00, -9.71152342e-01,\n",
       "       -2.00944161e+00, -1.33872697e+00, -2.57633696e-01,  1.20218883e+00,\n",
       "        4.43347543e-01,  4.66071992e-01, -7.69468962e-01, -1.13146132e+00,\n",
       "        7.01556956e-01, -1.81581231e-01, -1.08838610e+00,  1.15818246e+00,\n",
       "       -2.01643239e-02, -1.93290560e-01,  2.75389267e+00, -1.42332648e+00,\n",
       "       -8.28810353e-01, -1.09538758e+00, -6.22249215e-01,  2.83925228e+00,\n",
       "        1.22175709e-01, -9.32437738e-01, -1.63247452e+00, -9.54254016e-01,\n",
       "        3.33024608e-01,  7.07589502e-01,  1.86773014e+00])"
      ]
     },
     "execution_count": 26,
     "metadata": {},
     "output_type": "execute_result"
    }
   ],
   "source": [
    "Theta[0]"
   ]
  },
  {
   "cell_type": "code",
   "execution_count": 27,
   "metadata": {},
   "outputs": [
    {
     "data": {
      "text/html": [
       "<div>\n",
       "<style scoped>\n",
       "    .dataframe tbody tr th:only-of-type {\n",
       "        vertical-align: middle;\n",
       "    }\n",
       "\n",
       "    .dataframe tbody tr th {\n",
       "        vertical-align: top;\n",
       "    }\n",
       "\n",
       "    .dataframe thead th {\n",
       "        text-align: right;\n",
       "    }\n",
       "</style>\n",
       "<table border=\"1\" class=\"dataframe\">\n",
       "  <thead>\n",
       "    <tr style=\"text-align: right;\">\n",
       "      <th></th>\n",
       "      <th>worker</th>\n",
       "      <th>theta diff norm</th>\n",
       "      <th>loss</th>\n",
       "    </tr>\n",
       "  </thead>\n",
       "  <tbody>\n",
       "    <tr>\n",
       "      <th>0</th>\n",
       "      <td>0</td>\n",
       "      <td>3.617518</td>\n",
       "      <td>0.190374</td>\n",
       "    </tr>\n",
       "    <tr>\n",
       "      <th>1</th>\n",
       "      <td>1</td>\n",
       "      <td>3.617517</td>\n",
       "      <td>0.190374</td>\n",
       "    </tr>\n",
       "    <tr>\n",
       "      <th>2</th>\n",
       "      <td>2</td>\n",
       "      <td>3.617530</td>\n",
       "      <td>0.190374</td>\n",
       "    </tr>\n",
       "    <tr>\n",
       "      <th>3</th>\n",
       "      <td>3</td>\n",
       "      <td>3.617530</td>\n",
       "      <td>0.190373</td>\n",
       "    </tr>\n",
       "    <tr>\n",
       "      <th>4</th>\n",
       "      <td>4</td>\n",
       "      <td>3.617543</td>\n",
       "      <td>0.190373</td>\n",
       "    </tr>\n",
       "    <tr>\n",
       "      <th>5</th>\n",
       "      <td>5</td>\n",
       "      <td>3.617544</td>\n",
       "      <td>0.190373</td>\n",
       "    </tr>\n",
       "    <tr>\n",
       "      <th>6</th>\n",
       "      <td>6</td>\n",
       "      <td>3.617557</td>\n",
       "      <td>0.190373</td>\n",
       "    </tr>\n",
       "    <tr>\n",
       "      <th>7</th>\n",
       "      <td>7</td>\n",
       "      <td>3.617551</td>\n",
       "      <td>0.190373</td>\n",
       "    </tr>\n",
       "  </tbody>\n",
       "</table>\n",
       "</div>"
      ],
      "text/plain": [
       "   worker  theta diff norm      loss\n",
       "0       0         3.617518  0.190374\n",
       "1       1         3.617517  0.190374\n",
       "2       2         3.617530  0.190374\n",
       "3       3         3.617530  0.190373\n",
       "4       4         3.617543  0.190373\n",
       "5       5         3.617544  0.190373\n",
       "6       6         3.617557  0.190373\n",
       "7       7         3.617551  0.190373"
      ]
     },
     "execution_count": 27,
     "metadata": {},
     "output_type": "execute_result"
    }
   ],
   "source": [
    "df_data = []\n",
    "for n in range(M):\n",
    "    df_data.append(\n",
    "        {\n",
    "            \"worker\": n,\n",
    "            \"theta diff norm\": np.linalg.norm(Theta[n] - opt_theta),\n",
    "            \"loss\": f(Theta[n], data, y),\n",
    "        }\n",
    "    )\n",
    "pd.DataFrame(df_data)"
   ]
  },
  {
   "cell_type": "code",
   "execution_count": null,
   "metadata": {},
   "outputs": [],
   "source": []
  }
 ],
 "metadata": {
  "colab": {
   "provenance": []
  },
  "kernelspec": {
   "display_name": "Python 3",
   "name": "python3"
  },
  "language_info": {
   "codemirror_mode": {
    "name": "ipython",
    "version": 3
   },
   "file_extension": ".py",
   "mimetype": "text/x-python",
   "name": "python",
   "nbconvert_exporter": "python",
   "pygments_lexer": "ipython3",
   "version": "3.10.11"
  }
 },
 "nbformat": 4,
 "nbformat_minor": 0
}
