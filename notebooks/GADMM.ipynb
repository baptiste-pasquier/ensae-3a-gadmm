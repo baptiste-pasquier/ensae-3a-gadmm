{
 "cells": [
  {
   "cell_type": "code",
   "execution_count": 1,
   "metadata": {
    "id": "iV-y9dP1aXoh"
   },
   "outputs": [],
   "source": [
    "import matplotlib.pyplot as plt\n",
    "import numpy as np\n",
    "import pandas as pd\n",
    "import seaborn as sns\n",
    "from scipy.optimize import minimize\n",
    "from sklearn.decomposition import PCA\n",
    "from sklearn.linear_model import LogisticRegression\n",
    "from sklearn.metrics import log_loss\n",
    "from sklearn.preprocessing import StandardScaler\n",
    "from tqdm.auto import trange\n",
    "from threading import Thread"
   ]
  },
  {
   "attachments": {},
   "cell_type": "markdown",
   "metadata": {
    "id": "9ILhh5HXgz9X"
   },
   "source": [
    "## Importation of data\n",
    "\n",
    "Le data provient du repo suivant : https://github.com/chentianyi1991/LAG-code s"
   ]
  },
  {
   "cell_type": "code",
   "execution_count": 2,
   "metadata": {
    "colab": {
     "base_uri": "https://localhost:8080/"
    },
    "id": "TKIyP7O_ifJR",
    "outputId": "0c338bec-48f8-44e6-c4e5-5ea8e5c24518"
   },
   "outputs": [
    {
     "data": {
      "text/plain": [
       "(351, 34)"
      ]
     },
     "execution_count": 2,
     "metadata": {},
     "output_type": "execute_result"
    }
   ],
   "source": [
    "data = np.loadtxt(\"data/data2/data.txt\")\n",
    "data.shape"
   ]
  },
  {
   "cell_type": "code",
   "execution_count": 3,
   "metadata": {
    "colab": {
     "base_uri": "https://localhost:8080/"
    },
    "id": "dfL9fjVYixC4",
    "outputId": "d7ae24d8-600b-4c4f-e086-1f3370de87fc"
   },
   "outputs": [
    {
     "data": {
      "text/plain": [
       "(351,)"
      ]
     },
     "execution_count": 3,
     "metadata": {},
     "output_type": "execute_result"
    }
   ],
   "source": [
    "y = np.loadtxt(\"data/data2/y.txt\", dtype=int)\n",
    "y.shape"
   ]
  },
  {
   "cell_type": "code",
   "execution_count": 4,
   "metadata": {
    "colab": {
     "base_uri": "https://localhost:8080/"
    },
    "id": "KwRKjZQYk5mY",
    "outputId": "6bb2c5a8-e2d6-4f17-e9d0-ee8dac140bb2"
   },
   "outputs": [
    {
     "data": {
      "text/plain": [
       "(351, 2)"
      ]
     },
     "execution_count": 4,
     "metadata": {},
     "output_type": "execute_result"
    }
   ],
   "source": [
    "# StandardScaler : mean of 0 and std of 1\n",
    "scaled_data = StandardScaler().fit_transform(data)\n",
    "\n",
    "pca = PCA(2)\n",
    "pca_data = pca.fit_transform(scaled_data)\n",
    "pca_data.shape"
   ]
  },
  {
   "cell_type": "code",
   "execution_count": 5,
   "metadata": {
    "colab": {
     "base_uri": "https://localhost:8080/",
     "height": 423
    },
    "id": "4N2KU1Lfl-2z",
    "outputId": "a904e35c-4ccf-4bb0-bb2e-cf5b033eb920"
   },
   "outputs": [
    {
     "data": {
      "text/html": [
       "<div>\n",
       "<style scoped>\n",
       "    .dataframe tbody tr th:only-of-type {\n",
       "        vertical-align: middle;\n",
       "    }\n",
       "\n",
       "    .dataframe tbody tr th {\n",
       "        vertical-align: top;\n",
       "    }\n",
       "\n",
       "    .dataframe thead th {\n",
       "        text-align: right;\n",
       "    }\n",
       "</style>\n",
       "<table border=\"1\" class=\"dataframe\">\n",
       "  <thead>\n",
       "    <tr style=\"text-align: right;\">\n",
       "      <th></th>\n",
       "      <th>PC1</th>\n",
       "      <th>PC2</th>\n",
       "      <th>y</th>\n",
       "    </tr>\n",
       "  </thead>\n",
       "  <tbody>\n",
       "    <tr>\n",
       "      <th>0</th>\n",
       "      <td>-1.668242</td>\n",
       "      <td>-2.054597</td>\n",
       "      <td>0</td>\n",
       "    </tr>\n",
       "    <tr>\n",
       "      <th>1</th>\n",
       "      <td>0.823940</td>\n",
       "      <td>-2.583636</td>\n",
       "      <td>1</td>\n",
       "    </tr>\n",
       "    <tr>\n",
       "      <th>2</th>\n",
       "      <td>-2.034095</td>\n",
       "      <td>-0.748245</td>\n",
       "      <td>0</td>\n",
       "    </tr>\n",
       "    <tr>\n",
       "      <th>3</th>\n",
       "      <td>1.252374</td>\n",
       "      <td>1.363326</td>\n",
       "      <td>1</td>\n",
       "    </tr>\n",
       "    <tr>\n",
       "      <th>4</th>\n",
       "      <td>0.017756</td>\n",
       "      <td>-1.845357</td>\n",
       "      <td>0</td>\n",
       "    </tr>\n",
       "    <tr>\n",
       "      <th>...</th>\n",
       "      <td>...</td>\n",
       "      <td>...</td>\n",
       "      <td>...</td>\n",
       "    </tr>\n",
       "    <tr>\n",
       "      <th>346</th>\n",
       "      <td>-3.156856</td>\n",
       "      <td>-0.000433</td>\n",
       "      <td>0</td>\n",
       "    </tr>\n",
       "    <tr>\n",
       "      <th>347</th>\n",
       "      <td>-3.562330</td>\n",
       "      <td>0.324750</td>\n",
       "      <td>0</td>\n",
       "    </tr>\n",
       "    <tr>\n",
       "      <th>348</th>\n",
       "      <td>-3.512043</td>\n",
       "      <td>0.204754</td>\n",
       "      <td>0</td>\n",
       "    </tr>\n",
       "    <tr>\n",
       "      <th>349</th>\n",
       "      <td>-3.308935</td>\n",
       "      <td>-0.343454</td>\n",
       "      <td>0</td>\n",
       "    </tr>\n",
       "    <tr>\n",
       "      <th>350</th>\n",
       "      <td>-2.705653</td>\n",
       "      <td>-0.230427</td>\n",
       "      <td>0</td>\n",
       "    </tr>\n",
       "  </tbody>\n",
       "</table>\n",
       "<p>351 rows × 3 columns</p>\n",
       "</div>"
      ],
      "text/plain": [
       "          PC1       PC2  y\n",
       "0   -1.668242 -2.054597  0\n",
       "1    0.823940 -2.583636  1\n",
       "2   -2.034095 -0.748245  0\n",
       "3    1.252374  1.363326  1\n",
       "4    0.017756 -1.845357  0\n",
       "..        ...       ... ..\n",
       "346 -3.156856 -0.000433  0\n",
       "347 -3.562330  0.324750  0\n",
       "348 -3.512043  0.204754  0\n",
       "349 -3.308935 -0.343454  0\n",
       "350 -2.705653 -0.230427  0\n",
       "\n",
       "[351 rows x 3 columns]"
      ]
     },
     "execution_count": 5,
     "metadata": {},
     "output_type": "execute_result"
    }
   ],
   "source": [
    "pca_df = pd.DataFrame(data=pca_data, columns=[\"PC1\", \"PC2\"])\n",
    "pca_df[\"y\"] = y\n",
    "pca_df"
   ]
  },
  {
   "cell_type": "code",
   "execution_count": 6,
   "metadata": {
    "colab": {
     "base_uri": "https://localhost:8080/",
     "height": 523
    },
    "id": "P1oAAcuNnzFf",
    "outputId": "f859c9f5-a484-4f66-a554-53ecf763515a"
   },
   "outputs": [
    {
     "data": {
      "text/plain": [
       "<seaborn.axisgrid.FacetGrid at 0x16db61fc0>"
      ]
     },
     "execution_count": 6,
     "metadata": {},
     "output_type": "execute_result"
    },
    {
     "data": {
      "image/png": "[encoded data removed]",
      "text/plain": [
       "<Figure size 558.875x500 with 1 Axes>"
      ]
     },
     "metadata": {},
     "output_type": "display_data"
    }
   ],
   "source": [
    "sns.lmplot(x=\"PC1\", y=\"PC2\", data=pca_df, hue=\"y\", fit_reg=False, legend=True)"
   ]
  },
  {
   "cell_type": "code",
   "execution_count": 7,
   "metadata": {
    "colab": {
     "base_uri": "https://localhost:8080/"
    },
    "id": "9spgCvwyvvy5",
    "outputId": "e13b67a8-c40f-4bd3-b9ed-9de5d6bd9429"
   },
   "outputs": [
    {
     "data": {
      "text/plain": [
       "(351, 35)"
      ]
     },
     "execution_count": 7,
     "metadata": {},
     "output_type": "execute_result"
    }
   ],
   "source": [
    "# Adding an intercept\n",
    "temp_data = np.ones((data.shape[0], data.shape[1] + 1))\n",
    "temp_data[:, 1:] = scaled_data\n",
    "data = temp_data\n",
    "data.shape"
   ]
  },
  {
   "cell_type": "code",
   "execution_count": 8,
   "metadata": {
    "colab": {
     "base_uri": "https://localhost:8080/"
    },
    "id": "beHe4JlpPcNh",
    "outputId": "945bf5be-ae01-4378-c289-d3da829c7df5"
   },
   "outputs": [
    {
     "data": {
      "text/plain": [
       "35"
      ]
     },
     "execution_count": 8,
     "metadata": {},
     "output_type": "execute_result"
    }
   ],
   "source": [
    "d = data.shape[1]\n",
    "d"
   ]
  },
  {
   "attachments": {},
   "cell_type": "markdown",
   "metadata": {
    "id": "2GoH5AGwgnTb"
   },
   "source": [
    "## Logistic Regression"
   ]
  },
  {
   "cell_type": "code",
   "execution_count": 9,
   "metadata": {
    "id": "bArTi6tuxII9"
   },
   "outputs": [],
   "source": [
    "rho = 1"
   ]
  },
  {
   "cell_type": "code",
   "execution_count": 10,
   "metadata": {
    "colab": {
     "base_uri": "https://localhost:8080/"
    },
    "id": "CZvGglLCgxA2",
    "outputId": "aa5e02bb-c39c-4db9-973b-bdcf0160b18e"
   },
   "outputs": [
    {
     "data": {
      "text/plain": [
       "0.9259259259259259"
      ]
     },
     "execution_count": 10,
     "metadata": {},
     "output_type": "execute_result"
    }
   ],
   "source": [
    "clf = LogisticRegression(\n",
    "    penalty=\"l2\", C=rho, fit_intercept=False, solver=\"liblinear\"\n",
    ").fit(data, y)\n",
    "y_pred = clf.predict(data)\n",
    "y_pred_proba = clf.predict_proba(data)\n",
    "clf.score(data, y)  # compute accuracy"
   ]
  },
  {
   "cell_type": "code",
   "execution_count": 11,
   "metadata": {
    "colab": {
     "base_uri": "https://localhost:8080/"
    },
    "id": "JuGwMixzDaIq",
    "outputId": "9923f2d4-e2fa-4b24-ac1d-004eebadff1b"
   },
   "outputs": [
    {
     "data": {
      "text/plain": [
       "array([[-0.16162871, -2.25989579,  0.        , -0.8004997 ,  0.00761144,\n",
       "        -0.99946311, -0.9730252 , -0.54479263, -1.07079607, -0.66992926,\n",
       "        -0.19357204,  0.61352733,  0.18207117,  0.0964342 , -0.3013256 ,\n",
       "        -0.67571157,  0.42383201, -0.09854566, -0.56972128,  0.80706223,\n",
       "        -0.01100896, -0.09950051,  1.3649529 , -0.80355806, -0.40487275,\n",
       "        -0.68251785, -0.18623943,  1.39654551,  0.07158301, -0.53248591,\n",
       "        -0.93991849, -0.53082438,  0.17228759,  0.37834172,  0.86564326]])"
      ]
     },
     "execution_count": 11,
     "metadata": {},
     "output_type": "execute_result"
    }
   ],
   "source": [
    "opt_theta = clf.coef_\n",
    "opt_theta"
   ]
  },
  {
   "cell_type": "code",
   "execution_count": 12,
   "metadata": {
    "colab": {
     "base_uri": "https://localhost:8080/"
    },
    "id": "YI-GvZ-avg03",
    "outputId": "3a1bff6a-4d9d-44db-8aba-43b2177b1e9e"
   },
   "outputs": [
    {
     "data": {
      "text/plain": [
       "0.18694318521111666"
      ]
     },
     "execution_count": 12,
     "metadata": {},
     "output_type": "execute_result"
    }
   ],
   "source": [
    "loss = log_loss(y, y_pred_proba, labels=[0, 1])\n",
    "loss"
   ]
  },
  {
   "attachments": {},
   "cell_type": "markdown",
   "metadata": {
    "id": "hHTvRVU4xSq2"
   },
   "source": [
    "## GADMM not parallelized"
   ]
  },
  {
   "cell_type": "code",
   "execution_count": 13,
   "metadata": {
    "id": "AYeMZYo1xXoT"
   },
   "outputs": [],
   "source": [
    "K = 200  # number of iterations\n",
    "M = 8 # number of workers\n",
    "rho = 1\n",
    "\n",
    "split_data = np.array_split(data, M)"
   ]
  },
  {
   "cell_type": "code",
   "execution_count": 14,
   "metadata": {
    "colab": {
     "base_uri": "https://localhost:8080/"
    },
    "id": "rtagpZl60m06",
    "outputId": "85b08cc5-c456-4fc4-c2c1-43690bb7bb6d"
   },
   "outputs": [
    {
     "data": {
      "text/plain": [
       "8"
      ]
     },
     "execution_count": 14,
     "metadata": {},
     "output_type": "execute_result"
    }
   ],
   "source": [
    "len(split_data)"
   ]
  },
  {
   "cell_type": "code",
   "execution_count": 15,
   "metadata": {
    "colab": {
     "base_uri": "https://localhost:8080/"
    },
    "id": "uJTyt4Jx2IZs",
    "outputId": "c9b0f4e5-cec0-4568-bf12-3e1b04fbd39a"
   },
   "outputs": [
    {
     "data": {
      "text/plain": [
       "(44, 35)"
      ]
     },
     "execution_count": 15,
     "metadata": {},
     "output_type": "execute_result"
    }
   ],
   "source": [
    "split_data[0].shape"
   ]
  },
  {
   "cell_type": "code",
   "execution_count": 16,
   "metadata": {
    "id": "3jXTgNej20E7"
   },
   "outputs": [],
   "source": [
    "split_y = np.array_split(y, M)"
   ]
  },
  {
   "cell_type": "code",
   "execution_count": 17,
   "metadata": {
    "colab": {
     "base_uri": "https://localhost:8080/"
    },
    "id": "Ng9QtnRI22X3",
    "outputId": "74d3fb49-45d7-4e70-8e4f-bed7c51317df"
   },
   "outputs": [
    {
     "data": {
      "text/plain": [
       "8"
      ]
     },
     "execution_count": 17,
     "metadata": {},
     "output_type": "execute_result"
    }
   ],
   "source": [
    "len(split_y)"
   ]
  },
  {
   "cell_type": "code",
   "execution_count": 18,
   "metadata": {
    "colab": {
     "base_uri": "https://localhost:8080/"
    },
    "id": "cTau8n8924GJ",
    "outputId": "e3e95563-eb3f-4ed2-efc0-1dd9fab6df75"
   },
   "outputs": [
    {
     "data": {
      "text/plain": [
       "(44,)"
      ]
     },
     "execution_count": 18,
     "metadata": {},
     "output_type": "execute_result"
    }
   ],
   "source": [
    "split_y[0].shape"
   ]
  },
  {
   "cell_type": "code",
   "execution_count": 19,
   "metadata": {
    "id": "y7v-CXHRIosm"
   },
   "outputs": [],
   "source": [
    "def sigmoid(x):\n",
    "    return 1 / (1 + np.exp(-x))"
   ]
  },
  {
   "cell_type": "code",
   "execution_count": 20,
   "metadata": {
    "id": "xLxyJSNt2DcE"
   },
   "outputs": [],
   "source": [
    "def f(theta, sample_data, sample_y):\n",
    "    proba_pred = [\n",
    "        sigmoid(np.inner(theta, sample_data[i])) for i in range(len(sample_y))\n",
    "    ]\n",
    "    # y_pred = [int(proba>0.5) for proba in proba_pred]\n",
    "\n",
    "    return log_loss(sample_y, proba_pred, labels=[0, 1])"
   ]
  },
  {
   "cell_type": "code",
   "execution_count": 21,
   "metadata": {
    "colab": {
     "base_uri": "https://localhost:8080/"
    },
    "id": "Yr_qUff2FN8z",
    "outputId": "6b1d1ca7-19cb-42f2-b939-37875a33b5ee"
   },
   "outputs": [
    {
     "data": {
      "text/plain": [
       "0.18694318521111672"
      ]
     },
     "execution_count": 21,
     "metadata": {},
     "output_type": "execute_result"
    }
   ],
   "source": [
    "f(opt_theta, data, y)"
   ]
  },
  {
   "attachments": {},
   "cell_type": "markdown",
   "metadata": {
    "id": "Mso66LHSzu0u"
   },
   "source": [
    "On a la même loss qu'avec sklearn, tout va bien !\n",
    "\n",
    "---\n",
    "\n"
   ]
  },
  {
   "cell_type": "code",
   "execution_count": 22,
   "metadata": {},
   "outputs": [],
   "source": [
    "def objective_function(\n",
    "    theta_n,\n",
    "    sample_data,\n",
    "    sample_y,\n",
    "    lamb_n,\n",
    "    lamb_n_minus_1,\n",
    "    theta_n_minus_1,\n",
    "    theta_n_plus_1,\n",
    "    rho,\n",
    "):\n",
    "    resul = f(theta_n, sample_data, sample_y)\n",
    "    if theta_n_minus_1 is not None:\n",
    "        resul += lamb_n_minus_1 @ (theta_n_minus_1 - theta_n)\n",
    "        resul += (rho / 2) * ((theta_n_minus_1 - theta_n) ** 2).sum()\n",
    "    if theta_n_plus_1 is not None:\n",
    "        resul += lamb_n @ (theta_n - theta_n_plus_1)\n",
    "        resul += (rho / 2) * ((theta_n - theta_n_plus_1) ** 2).sum()\n",
    "\n",
    "    return resul"
   ]
  },
  {
   "cell_type": "code",
   "execution_count": 23,
   "metadata": {
    "colab": {
     "base_uri": "https://localhost:8080/",
     "height": 380
    },
    "id": "6yW8GFKp056z",
    "outputId": "965bfc5f-d988-40ff-b2d9-c6754e4c225f"
   },
   "outputs": [
    {
     "data": {
      "application/vnd.jupyter.widget-view+json": {
       "model_id": "3d0db5e00a5d4dae84a4f191522550f3",
       "version_major": 2,
       "version_minor": 0
      },
      "text/plain": [
       "  0%|          | 0/200 [00:00<?, ?it/s]"
      ]
     },
     "metadata": {},
     "output_type": "display_data"
    }
   ],
   "source": [
    "# Initialisation\n",
    "Theta = np.zeros((M, d))\n",
    "Lamb = np.zeros((M, d))\n",
    "\n",
    "# Iterative procedure\n",
    "df_log = []\n",
    "\n",
    "for k in trange(K):\n",
    "    # Step 1 : head workers\n",
    "    for n in range(M):\n",
    "        if n % 2 == 0:\n",
    "            sample_data = split_data[n]\n",
    "            sample_y = split_y[n]\n",
    "            lamb_n = Lamb[n]\n",
    "            lamb_n_minus_1 = Lamb[n - 1] if n > 0 else None\n",
    "            theta_n_minus_1 = Theta[n - 1] if n > 0 else None\n",
    "            theta_n_plus_1 = Theta[n + 1] if n < M else None\n",
    "            res = minimize(\n",
    "                objective_function,\n",
    "                x0=Theta[n],\n",
    "                args=(\n",
    "                    sample_data,\n",
    "                    sample_y,\n",
    "                    lamb_n,\n",
    "                    lamb_n_minus_1,\n",
    "                    theta_n_minus_1,\n",
    "                    theta_n_plus_1,\n",
    "                    rho,\n",
    "                ),\n",
    "            )\n",
    "            Theta[n] = res.x\n",
    "\n",
    "    # Step 2 : tail workers\n",
    "    for n in range(M):\n",
    "        if n % 2 == 1:\n",
    "            sample_data = split_data[n]\n",
    "            sample_y = split_y[n]\n",
    "            lamb_n = Lamb[n]\n",
    "            lamb_n_minus_1 = Lamb[n - 1] if n > 0 else None\n",
    "            theta_n_minus_1 = Theta[n - 1] if n > 0 else None\n",
    "            theta_n_plus_1 = Theta[n + 1] if n < M - 1 else None\n",
    "            res = minimize(\n",
    "                objective_function,\n",
    "                x0=Theta[n],\n",
    "                args=(\n",
    "                    sample_data,\n",
    "                    sample_y,\n",
    "                    lamb_n,\n",
    "                    lamb_n_minus_1,\n",
    "                    theta_n_minus_1,\n",
    "                    theta_n_plus_1,\n",
    "                    rho,\n",
    "                ),\n",
    "            )\n",
    "            Theta[n] = res.x\n",
    "\n",
    "    # Step 3 : Update lambda\n",
    "    for n in range(M - 1):\n",
    "        Lamb[n] = Lamb[n] + rho * (Theta[n] - Theta[n + 1])\n",
    "\n",
    "    for n in range(M):\n",
    "        df_log.append(\n",
    "            {\n",
    "                \"iteration\": k,\n",
    "                \"worker\": n,\n",
    "                \"theta diff norm\": np.linalg.norm(Theta[n] - opt_theta),\n",
    "                \"loss\": f(Theta[n], data, y),\n",
    "            }\n",
    "        )\n",
    "\n",
    "df_log = pd.DataFrame(df_log)"
   ]
  },
  {
   "cell_type": "code",
   "execution_count": 24,
   "metadata": {
    "colab": {
     "base_uri": "https://localhost:8080/"
    },
    "id": "wfz1ht3sK4N5",
    "outputId": "2a908206-1d32-47d9-f9e6-e59e15c77a4a"
   },
   "outputs": [
    {
     "data": {
      "text/plain": [
       "array([-8.49208176e-02, -2.63678721e+00, -2.98952650e-06, -9.07138820e-01,\n",
       "        2.65724272e-02, -1.15844688e+00, -1.11985831e+00, -6.28078588e-01,\n",
       "       -1.25819397e+00, -6.46488371e-01, -2.23246296e-01,  7.05643973e-01,\n",
       "        2.54686657e-01,  1.29020213e-01, -3.29426330e-01, -7.23213295e-01,\n",
       "        5.16161586e-01, -1.06634217e-01, -6.57783913e-01,  7.86740563e-01,\n",
       "        8.46509275e-03, -1.31955130e-01,  1.55391826e+00, -8.57038966e-01,\n",
       "       -4.71885995e-01, -7.77226394e-01, -2.42114458e-01,  1.59096525e+00,\n",
       "        7.85494968e-02, -5.95630008e-01, -1.10029232e+00, -6.43052432e-01,\n",
       "        1.88974107e-01,  4.92852689e-01,  1.02459070e+00])"
      ]
     },
     "execution_count": 24,
     "metadata": {},
     "output_type": "execute_result"
    }
   ],
   "source": [
    "Theta[0]"
   ]
  },
  {
   "cell_type": "code",
   "execution_count": 25,
   "metadata": {},
   "outputs": [],
   "source": [
    "def display_df_log(df_log):\n",
    "    sns.lineplot(x=\"iteration\", y=\"theta diff norm\", data=df_log, hue=\"worker\")\n",
    "    plt.grid()\n",
    "    plt.show()\n",
    "\n",
    "    sns.lineplot(x=\"iteration\", y=\"loss\", data=df_log, hue=\"worker\")\n",
    "    plt.grid()\n",
    "    plt.show()\n",
    "\n",
    "    df_data = []\n",
    "    for n in range(M):\n",
    "        df_data.append(\n",
    "            {\n",
    "                \"worker\": n,\n",
    "                \"theta diff norm\": np.linalg.norm(Theta[n] - opt_theta),\n",
    "                \"loss\": f(Theta[n], data, y),\n",
    "            }\n",
    "        )\n",
    "    display(pd.DataFrame(df_data))"
   ]
  },
  {
   "cell_type": "code",
   "execution_count": 26,
   "metadata": {},
   "outputs": [
    {
     "data": {
      "image/png": "[encoded data removed]",
      "text/plain": [
       "<Figure size 640x480 with 1 Axes>"
      ]
     },
     "metadata": {},
     "output_type": "display_data"
    },
    {
     "data": {
      "image/png": "[encoded data removed]",
      "text/plain": [
       "<Figure size 640x480 with 1 Axes>"
      ]
     },
     "metadata": {},
     "output_type": "display_data"
    },
    {
     "data": {
      "text/html": [
       "<div>\n",
       "<style scoped>\n",
       "    .dataframe tbody tr th:only-of-type {\n",
       "        vertical-align: middle;\n",
       "    }\n",
       "\n",
       "    .dataframe tbody tr th {\n",
       "        vertical-align: top;\n",
       "    }\n",
       "\n",
       "    .dataframe thead th {\n",
       "        text-align: right;\n",
       "    }\n",
       "</style>\n",
       "<table border=\"1\" class=\"dataframe\">\n",
       "  <thead>\n",
       "    <tr style=\"text-align: right;\">\n",
       "      <th></th>\n",
       "      <th>worker</th>\n",
       "      <th>theta diff norm</th>\n",
       "      <th>loss</th>\n",
       "    </tr>\n",
       "  </thead>\n",
       "  <tbody>\n",
       "    <tr>\n",
       "      <th>0</th>\n",
       "      <td>0</td>\n",
       "      <td>0.678230</td>\n",
       "      <td>0.180940</td>\n",
       "    </tr>\n",
       "    <tr>\n",
       "      <th>1</th>\n",
       "      <td>1</td>\n",
       "      <td>0.678222</td>\n",
       "      <td>0.180940</td>\n",
       "    </tr>\n",
       "    <tr>\n",
       "      <th>2</th>\n",
       "      <td>2</td>\n",
       "      <td>0.678249</td>\n",
       "      <td>0.180940</td>\n",
       "    </tr>\n",
       "    <tr>\n",
       "      <th>3</th>\n",
       "      <td>3</td>\n",
       "      <td>0.678234</td>\n",
       "      <td>0.180940</td>\n",
       "    </tr>\n",
       "    <tr>\n",
       "      <th>4</th>\n",
       "      <td>4</td>\n",
       "      <td>0.678257</td>\n",
       "      <td>0.180940</td>\n",
       "    </tr>\n",
       "    <tr>\n",
       "      <th>5</th>\n",
       "      <td>5</td>\n",
       "      <td>0.678243</td>\n",
       "      <td>0.180940</td>\n",
       "    </tr>\n",
       "    <tr>\n",
       "      <th>6</th>\n",
       "      <td>6</td>\n",
       "      <td>0.678265</td>\n",
       "      <td>0.180939</td>\n",
       "    </tr>\n",
       "    <tr>\n",
       "      <th>7</th>\n",
       "      <td>7</td>\n",
       "      <td>0.678236</td>\n",
       "      <td>0.180939</td>\n",
       "    </tr>\n",
       "  </tbody>\n",
       "</table>\n",
       "</div>"
      ],
      "text/plain": [
       "   worker  theta diff norm      loss\n",
       "0       0         0.678230  0.180940\n",
       "1       1         0.678222  0.180940\n",
       "2       2         0.678249  0.180940\n",
       "3       3         0.678234  0.180940\n",
       "4       4         0.678257  0.180940\n",
       "5       5         0.678243  0.180940\n",
       "6       6         0.678265  0.180939\n",
       "7       7         0.678236  0.180939"
      ]
     },
     "metadata": {},
     "output_type": "display_data"
    }
   ],
   "source": [
    "display_df_log(df_log)"
   ]
  },
  {
   "cell_type": "code",
   "execution_count": 27,
   "metadata": {},
   "outputs": [],
   "source": [
    "# Multithreading\n",
    "\n",
    "def thread_func_head(sample_data, sample_y, Lamb, Theta, n):\n",
    "    lamb_n = Lamb[n]\n",
    "    lamb_n_minus_1 = Lamb[n - 1] if n > 0 else None\n",
    "    theta_n_minus_1 = Theta[n - 1] if n > 0 else None\n",
    "    theta_n_plus_1 = Theta[n + 1] if n < M else None\n",
    "    res = minimize(\n",
    "        objective_function,\n",
    "        x0=Theta[n],\n",
    "        args=(\n",
    "            sample_data,\n",
    "            sample_y,\n",
    "            lamb_n,\n",
    "            lamb_n_minus_1,\n",
    "            theta_n_minus_1,\n",
    "            theta_n_plus_1,\n",
    "            rho,\n",
    "        ),\n",
    "    )\n",
    "    Theta[n] = res.x\n",
    "\n",
    "\n",
    "def thread_func_tail(sample_data, sample_y, Lamb, Theta, n):\n",
    "    lamb_n = Lamb[n]\n",
    "    lamb_n_minus_1 = Lamb[n - 1] if n > 0 else None\n",
    "    theta_n_minus_1 = Theta[n - 1] if n > 0 else None\n",
    "    theta_n_plus_1 = Theta[n + 1] if n < M - 1 else None\n",
    "    res = minimize(\n",
    "        objective_function,\n",
    "        x0=Theta[n],\n",
    "        args=(\n",
    "            sample_data,\n",
    "            sample_y,\n",
    "            lamb_n,\n",
    "            lamb_n_minus_1,\n",
    "            theta_n_minus_1,\n",
    "            theta_n_plus_1,\n",
    "            rho,\n",
    "        ),\n",
    "    )\n",
    "    Theta[n] = res.x"
   ]
  },
  {
   "cell_type": "code",
   "execution_count": 28,
   "metadata": {},
   "outputs": [
    {
     "data": {
      "application/vnd.jupyter.widget-view+json": {
       "model_id": "bca95a3526324ed384856c2bc7c431b1",
       "version_major": 2,
       "version_minor": 0
      },
      "text/plain": [
       "  0%|          | 0/200 [00:00<?, ?it/s]"
      ]
     },
     "metadata": {},
     "output_type": "display_data"
    }
   ],
   "source": [
    "# Initialisation\n",
    "Theta = np.zeros((M, d))\n",
    "Lamb = np.zeros((M, d))\n",
    "\n",
    "# Iterative procedure\n",
    "df_log = []\n",
    "\n",
    "for k in trange(K):\n",
    "    # Step 1 : head workers\n",
    "    threads = []\n",
    "    for n in range(M):\n",
    "        if n % 2 == 0:\n",
    "            thread = Thread(target=thread_func_head, args=(split_data[n], split_y[n], Lamb, Theta, n))\n",
    "            threads.append(thread)\n",
    "            thread.start()\n",
    "\n",
    "    for thread in threads:\n",
    "        thread.join()\n",
    "\n",
    "    # Step 2 : tail workers\n",
    "    threads = []\n",
    "    for n in range(M):\n",
    "        if n % 2 == 1:\n",
    "            thread = Thread(target=thread_func_tail, args=(split_data[n], split_y[n], Lamb, Theta, n))\n",
    "            threads.append(thread)\n",
    "            thread.start()\n",
    "\n",
    "    for thread in threads:\n",
    "        thread.join()\n",
    "\n",
    "    # Step 3 : Update lambda\n",
    "    for n in range(M - 1):\n",
    "        Lamb[n] = Lamb[n] + rho * (Theta[n] - Theta[n + 1])\n",
    "\n",
    "    for n in range(M):\n",
    "        df_log.append(\n",
    "            {\n",
    "                \"iteration\": k,\n",
    "                \"worker\": n,\n",
    "                \"theta diff norm\": np.linalg.norm(Theta[n] - opt_theta),\n",
    "                \"loss\": f(Theta[n], data, y),\n",
    "            }\n",
    "        )\n",
    "\n",
    "df_log = pd.DataFrame(df_log)"
   ]
  },
  {
   "cell_type": "code",
   "execution_count": 29,
   "metadata": {},
   "outputs": [
    {
     "data": {
      "image/png": "[encoded data removed]",
      "text/plain": [
       "<Figure size 640x480 with 1 Axes>"
      ]
     },
     "metadata": {},
     "output_type": "display_data"
    },
    {
     "data": {
      "image/png": "[encoded data removed]",
      "text/plain": [
       "<Figure size 640x480 with 1 Axes>"
      ]
     },
     "metadata": {},
     "output_type": "display_data"
    },
    {
     "data": {
      "text/html": [
       "<div>\n",
       "<style scoped>\n",
       "    .dataframe tbody tr th:only-of-type {\n",
       "        vertical-align: middle;\n",
       "    }\n",
       "\n",
       "    .dataframe tbody tr th {\n",
       "        vertical-align: top;\n",
       "    }\n",
       "\n",
       "    .dataframe thead th {\n",
       "        text-align: right;\n",
       "    }\n",
       "</style>\n",
       "<table border=\"1\" class=\"dataframe\">\n",
       "  <thead>\n",
       "    <tr style=\"text-align: right;\">\n",
       "      <th></th>\n",
       "      <th>worker</th>\n",
       "      <th>theta diff norm</th>\n",
       "      <th>loss</th>\n",
       "    </tr>\n",
       "  </thead>\n",
       "  <tbody>\n",
       "    <tr>\n",
       "      <th>0</th>\n",
       "      <td>0</td>\n",
       "      <td>0.678230</td>\n",
       "      <td>0.180940</td>\n",
       "    </tr>\n",
       "    <tr>\n",
       "      <th>1</th>\n",
       "      <td>1</td>\n",
       "      <td>0.678222</td>\n",
       "      <td>0.180940</td>\n",
       "    </tr>\n",
       "    <tr>\n",
       "      <th>2</th>\n",
       "      <td>2</td>\n",
       "      <td>0.678249</td>\n",
       "      <td>0.180940</td>\n",
       "    </tr>\n",
       "    <tr>\n",
       "      <th>3</th>\n",
       "      <td>3</td>\n",
       "      <td>0.678234</td>\n",
       "      <td>0.180940</td>\n",
       "    </tr>\n",
       "    <tr>\n",
       "      <th>4</th>\n",
       "      <td>4</td>\n",
       "      <td>0.678257</td>\n",
       "      <td>0.180940</td>\n",
       "    </tr>\n",
       "    <tr>\n",
       "      <th>5</th>\n",
       "      <td>5</td>\n",
       "      <td>0.678243</td>\n",
       "      <td>0.180940</td>\n",
       "    </tr>\n",
       "    <tr>\n",
       "      <th>6</th>\n",
       "      <td>6</td>\n",
       "      <td>0.678265</td>\n",
       "      <td>0.180939</td>\n",
       "    </tr>\n",
       "    <tr>\n",
       "      <th>7</th>\n",
       "      <td>7</td>\n",
       "      <td>0.678236</td>\n",
       "      <td>0.180939</td>\n",
       "    </tr>\n",
       "  </tbody>\n",
       "</table>\n",
       "</div>"
      ],
      "text/plain": [
       "   worker  theta diff norm      loss\n",
       "0       0         0.678230  0.180940\n",
       "1       1         0.678222  0.180940\n",
       "2       2         0.678249  0.180940\n",
       "3       3         0.678234  0.180940\n",
       "4       4         0.678257  0.180940\n",
       "5       5         0.678243  0.180940\n",
       "6       6         0.678265  0.180939\n",
       "7       7         0.678236  0.180939"
      ]
     },
     "metadata": {},
     "output_type": "display_data"
    }
   ],
   "source": [
    "display_df_log(df_log)"
   ]
  },
  {
   "cell_type": "code",
   "execution_count": null,
   "metadata": {},
   "outputs": [],
   "source": []
  }
 ],
 "metadata": {
  "colab": {
   "provenance": []
  },
  "kernelspec": {
   "display_name": "Python 3",
   "name": "python3"
  },
  "language_info": {
   "codemirror_mode": {
    "name": "ipython",
    "version": 3
   },
   "file_extension": ".py",
   "mimetype": "text/x-python",
   "name": "python",
   "nbconvert_exporter": "python",
   "pygments_lexer": "ipython3",
   "version": "3.10.11"
  }
 },
 "nbformat": 4,
 "nbformat_minor": 0
}
