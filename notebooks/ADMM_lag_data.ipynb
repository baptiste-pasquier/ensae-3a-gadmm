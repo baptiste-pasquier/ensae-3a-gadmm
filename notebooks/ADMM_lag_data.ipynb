{
    "cells": [
        {
            "cell_type": "code",
            "execution_count": 1,
            "metadata": {
                "id": "iV-y9dP1aXoh"
            },
            "outputs": [],
            "source": [
                "import time\n",
                "\n",
                "import numpy as np\n",
                "import pandas as pd\n",
                "import seaborn as sns\n",
                "from scipy.optimize import minimize\n",
                "from sklearn.decomposition import PCA\n",
                "from sklearn.linear_model import LogisticRegression\n",
                "from sklearn.metrics import log_loss\n",
                "from sklearn.preprocessing import StandardScaler\n",
                "from tqdm.auto import trange\n",
                "\n",
                "from ensae_3a_gadmm.admm import admm_objective_function\n",
                "from ensae_3a_gadmm.gadmm import display_df_log\n",
                "from ensae_3a_gadmm.logistic_regression import f\n",
                "\n",
                "t = time.time()"
            ]
        },
        {
            "attachments": {},
            "cell_type": "markdown",
            "metadata": {
                "id": "9ILhh5HXgz9X"
            },
            "source": [
                "## Importation of data\n",
                "\n",
                "Data is downloaded from the following repo : https://github.com/chentianyi1991/LAG-code "
            ]
        },
        {
            "cell_type": "code",
            "execution_count": 2,
            "metadata": {
                "colab": {
                    "base_uri": "https://localhost:8080/"
                },
                "id": "TKIyP7O_ifJR",
                "outputId": "0c338bec-48f8-44e6-c4e5-5ea8e5c24518"
            },
            "outputs": [
                {
                    "data": {
                        "text/plain": [
                            "(351, 34)"
                        ]
                    },
                    "execution_count": 2,
                    "metadata": {},
                    "output_type": "execute_result"
                }
            ],
            "source": [
                "data = np.loadtxt(\"data/data2/data.txt\")\n",
                "data.shape"
            ]
        },
        {
            "cell_type": "code",
            "execution_count": 3,
            "metadata": {
                "colab": {
                    "base_uri": "https://localhost:8080/"
                },
                "id": "dfL9fjVYixC4",
                "outputId": "d7ae24d8-600b-4c4f-e086-1f3370de87fc"
            },
            "outputs": [
                {
                    "data": {
                        "text/plain": [
                            "(351,)"
                        ]
                    },
                    "execution_count": 3,
                    "metadata": {},
                    "output_type": "execute_result"
                }
            ],
            "source": [
                "y = np.loadtxt(\"data/data2/y.txt\", dtype=int)\n",
                "y.shape"
            ]
        },
        {
            "cell_type": "code",
            "execution_count": 4,
            "metadata": {
                "colab": {
                    "base_uri": "https://localhost:8080/"
                },
                "id": "KwRKjZQYk5mY",
                "outputId": "6bb2c5a8-e2d6-4f17-e9d0-ee8dac140bb2"
            },
            "outputs": [
                {
                    "data": {
                        "text/plain": [
                            "(351, 2)"
                        ]
                    },
                    "execution_count": 4,
                    "metadata": {},
                    "output_type": "execute_result"
                }
            ],
            "source": [
                "# StandardScaler : mean of 0 and std of 1\n",
                "scaled_data = StandardScaler().fit_transform(data)\n",
                "\n",
                "pca = PCA(2)\n",
                "pca_data = pca.fit_transform(scaled_data)\n",
                "pca_data.shape"
            ]
        },
        {
            "cell_type": "code",
            "execution_count": 5,
            "metadata": {
                "colab": {
                    "base_uri": "https://localhost:8080/",
                    "height": 423
                },
                "id": "4N2KU1Lfl-2z",
                "outputId": "a904e35c-4ccf-4bb0-bb2e-cf5b033eb920"
            },
            "outputs": [
                {
                    "data": {
                        "text/html": [
                            "<div>\n",
                            "<style scoped>\n",
                            "    .dataframe tbody tr th:only-of-type {\n",
                            "        vertical-align: middle;\n",
                            "    }\n",
                            "\n",
                            "    .dataframe tbody tr th {\n",
                            "        vertical-align: top;\n",
                            "    }\n",
                            "\n",
                            "    .dataframe thead th {\n",
                            "        text-align: right;\n",
                            "    }\n",
                            "</style>\n",
                            "<table border=\"1\" class=\"dataframe\">\n",
                            "  <thead>\n",
                            "    <tr style=\"text-align: right;\">\n",
                            "      <th></th>\n",
                            "      <th>PC1</th>\n",
                            "      <th>PC2</th>\n",
                            "      <th>y</th>\n",
                            "    </tr>\n",
                            "  </thead>\n",
                            "  <tbody>\n",
                            "    <tr>\n",
                            "      <th>0</th>\n",
                            "      <td>-1.668242</td>\n",
                            "      <td>-2.054597</td>\n",
                            "      <td>0</td>\n",
                            "    </tr>\n",
                            "    <tr>\n",
                            "      <th>1</th>\n",
                            "      <td>0.823940</td>\n",
                            "      <td>-2.583636</td>\n",
                            "      <td>1</td>\n",
                            "    </tr>\n",
                            "    <tr>\n",
                            "      <th>2</th>\n",
                            "      <td>-2.034095</td>\n",
                            "      <td>-0.748245</td>\n",
                            "      <td>0</td>\n",
                            "    </tr>\n",
                            "    <tr>\n",
                            "      <th>3</th>\n",
                            "      <td>1.252374</td>\n",
                            "      <td>1.363326</td>\n",
                            "      <td>1</td>\n",
                            "    </tr>\n",
                            "    <tr>\n",
                            "      <th>4</th>\n",
                            "      <td>0.017756</td>\n",
                            "      <td>-1.845357</td>\n",
                            "      <td>0</td>\n",
                            "    </tr>\n",
                            "    <tr>\n",
                            "      <th>...</th>\n",
                            "      <td>...</td>\n",
                            "      <td>...</td>\n",
                            "      <td>...</td>\n",
                            "    </tr>\n",
                            "    <tr>\n",
                            "      <th>346</th>\n",
                            "      <td>-3.156856</td>\n",
                            "      <td>-0.000433</td>\n",
                            "      <td>0</td>\n",
                            "    </tr>\n",
                            "    <tr>\n",
                            "      <th>347</th>\n",
                            "      <td>-3.562330</td>\n",
                            "      <td>0.324750</td>\n",
                            "      <td>0</td>\n",
                            "    </tr>\n",
                            "    <tr>\n",
                            "      <th>348</th>\n",
                            "      <td>-3.512043</td>\n",
                            "      <td>0.204754</td>\n",
                            "      <td>0</td>\n",
                            "    </tr>\n",
                            "    <tr>\n",
                            "      <th>349</th>\n",
                            "      <td>-3.308935</td>\n",
                            "      <td>-0.343454</td>\n",
                            "      <td>0</td>\n",
                            "    </tr>\n",
                            "    <tr>\n",
                            "      <th>350</th>\n",
                            "      <td>-2.705653</td>\n",
                            "      <td>-0.230427</td>\n",
                            "      <td>0</td>\n",
                            "    </tr>\n",
                            "  </tbody>\n",
                            "</table>\n",
                            "<p>351 rows × 3 columns</p>\n",
                            "</div>"
                        ],
                        "text/plain": [
                            "          PC1       PC2  y\n",
                            "0   -1.668242 -2.054597  0\n",
                            "1    0.823940 -2.583636  1\n",
                            "2   -2.034095 -0.748245  0\n",
                            "3    1.252374  1.363326  1\n",
                            "4    0.017756 -1.845357  0\n",
                            "..        ...       ... ..\n",
                            "346 -3.156856 -0.000433  0\n",
                            "347 -3.562330  0.324750  0\n",
                            "348 -3.512043  0.204754  0\n",
                            "349 -3.308935 -0.343454  0\n",
                            "350 -2.705653 -0.230427  0\n",
                            "\n",
                            "[351 rows x 3 columns]"
                        ]
                    },
                    "execution_count": 5,
                    "metadata": {},
                    "output_type": "execute_result"
                }
            ],
            "source": [
                "pca_df = pd.DataFrame(data=pca_data, columns=[\"PC1\", \"PC2\"])\n",
                "pca_df[\"y\"] = y\n",
                "pca_df"
            ]
        },
        {
            "cell_type": "code",
            "execution_count": 6,
            "metadata": {
                "colab": {
                    "base_uri": "https://localhost:8080/",
                    "height": 523
                },
                "id": "P1oAAcuNnzFf",
                "outputId": "f859c9f5-a484-4f66-a554-53ecf763515a"
            },
            "outputs": [
                {
                    "data": {
                        "text/plain": [
                            "<seaborn.axisgrid.FacetGrid at 0x17fbc9ff0>"
                        ]
                    },
                    "execution_count": 6,
                    "metadata": {},
                    "output_type": "execute_result"
                },
                {
                    "data": {
                        "image/png": "[encoded data removed]",
                        "text/plain": [
                            "<Figure size 558.875x500 with 1 Axes>"
                        ]
                    },
                    "metadata": {},
                    "output_type": "display_data"
                }
            ],
            "source": [
                "sns.lmplot(x=\"PC1\", y=\"PC2\", data=pca_df, hue=\"y\", fit_reg=False, legend=True)"
            ]
        },
        {
            "cell_type": "code",
            "execution_count": 7,
            "metadata": {
                "colab": {
                    "base_uri": "https://localhost:8080/"
                },
                "id": "9spgCvwyvvy5",
                "outputId": "e13b67a8-c40f-4bd3-b9ed-9de5d6bd9429"
            },
            "outputs": [
                {
                    "data": {
                        "text/plain": [
                            "(351, 35)"
                        ]
                    },
                    "execution_count": 7,
                    "metadata": {},
                    "output_type": "execute_result"
                }
            ],
            "source": [
                "# Adding an intercept\n",
                "temp_data = np.ones((data.shape[0], data.shape[1] + 1))\n",
                "temp_data[:, 1:] = scaled_data\n",
                "data = temp_data\n",
                "data.shape"
            ]
        },
        {
            "cell_type": "code",
            "execution_count": 8,
            "metadata": {
                "colab": {
                    "base_uri": "https://localhost:8080/"
                },
                "id": "beHe4JlpPcNh",
                "outputId": "945bf5be-ae01-4378-c289-d3da829c7df5"
            },
            "outputs": [
                {
                    "data": {
                        "text/plain": [
                            "35"
                        ]
                    },
                    "execution_count": 8,
                    "metadata": {},
                    "output_type": "execute_result"
                }
            ],
            "source": [
                "d = data.shape[1]\n",
                "d"
            ]
        },
        {
            "attachments": {},
            "cell_type": "markdown",
            "metadata": {
                "id": "2GoH5AGwgnTb"
            },
            "source": [
                "## Logistic Regression"
            ]
        },
        {
            "attachments": {},
            "cell_type": "markdown",
            "metadata": {},
            "source": [
                "We compute LR with scikit-learn to compare our results"
            ]
        },
        {
            "cell_type": "code",
            "execution_count": 9,
            "metadata": {
                "id": "bArTi6tuxII9"
            },
            "outputs": [],
            "source": [
                "rho = 1"
            ]
        },
        {
            "cell_type": "code",
            "execution_count": 10,
            "metadata": {
                "colab": {
                    "base_uri": "https://localhost:8080/"
                },
                "id": "CZvGglLCgxA2",
                "outputId": "aa5e02bb-c39c-4db9-973b-bdcf0160b18e"
            },
            "outputs": [
                {
                    "data": {
                        "text/plain": [
                            "0.9259259259259259"
                        ]
                    },
                    "execution_count": 10,
                    "metadata": {},
                    "output_type": "execute_result"
                }
            ],
            "source": [
                "clf = LogisticRegression(\n",
                "    penalty=\"l2\", C=rho, fit_intercept=False, solver=\"liblinear\"\n",
                ").fit(data, y)\n",
                "y_pred = clf.predict(data)\n",
                "y_pred_proba = clf.predict_proba(data)\n",
                "clf.score(data, y)  # compute accuracy"
            ]
        },
        {
            "cell_type": "code",
            "execution_count": 11,
            "metadata": {
                "colab": {
                    "base_uri": "https://localhost:8080/"
                },
                "id": "JuGwMixzDaIq",
                "outputId": "9923f2d4-e2fa-4b24-ac1d-004eebadff1b"
            },
            "outputs": [
                {
                    "data": {
                        "text/plain": [
                            "array([[-0.16162871, -2.25989579,  0.        , -0.8004997 ,  0.00761144,\n",
                            "        -0.99946311, -0.9730252 , -0.54479263, -1.07079607, -0.66992926,\n",
                            "        -0.19357204,  0.61352733,  0.18207117,  0.0964342 , -0.3013256 ,\n",
                            "        -0.67571157,  0.42383201, -0.09854566, -0.56972128,  0.80706223,\n",
                            "        -0.01100896, -0.09950051,  1.3649529 , -0.80355806, -0.40487275,\n",
                            "        -0.68251785, -0.18623943,  1.39654551,  0.07158301, -0.53248591,\n",
                            "        -0.93991849, -0.53082438,  0.17228759,  0.37834172,  0.86564326]])"
                        ]
                    },
                    "execution_count": 11,
                    "metadata": {},
                    "output_type": "execute_result"
                }
            ],
            "source": [
                "opt_theta = clf.coef_\n",
                "opt_theta"
            ]
        },
        {
            "cell_type": "code",
            "execution_count": 12,
            "metadata": {
                "colab": {
                    "base_uri": "https://localhost:8080/"
                },
                "id": "YI-GvZ-avg03",
                "outputId": "3a1bff6a-4d9d-44db-8aba-43b2177b1e9e"
            },
            "outputs": [
                {
                    "data": {
                        "text/plain": [
                            "0.18694318521111666"
                        ]
                    },
                    "execution_count": 12,
                    "metadata": {},
                    "output_type": "execute_result"
                }
            ],
            "source": [
                "loss = log_loss(y, y_pred_proba, labels=[0, 1])\n",
                "loss"
            ]
        },
        {
            "attachments": {},
            "cell_type": "markdown",
            "metadata": {},
            "source": [
                "## ADMM not parallelized"
            ]
        },
        {
            "cell_type": "code",
            "execution_count": 13,
            "metadata": {},
            "outputs": [],
            "source": [
                "K = 1000  # number of iterations\n",
                "M = 4  # number of workers\n",
                "rho = 1"
            ]
        },
        {
            "cell_type": "code",
            "execution_count": 14,
            "metadata": {
                "tags": []
            },
            "outputs": [],
            "source": [
                "split_data = np.array_split(data, M)"
            ]
        },
        {
            "cell_type": "code",
            "execution_count": 15,
            "metadata": {},
            "outputs": [
                {
                    "data": {
                        "text/plain": [
                            "(88, 35)"
                        ]
                    },
                    "execution_count": 15,
                    "metadata": {},
                    "output_type": "execute_result"
                }
            ],
            "source": [
                "split_data[0].shape"
            ]
        },
        {
            "cell_type": "code",
            "execution_count": 16,
            "metadata": {},
            "outputs": [],
            "source": [
                "split_y = np.array_split(y, M)"
            ]
        },
        {
            "cell_type": "code",
            "execution_count": 17,
            "metadata": {},
            "outputs": [
                {
                    "data": {
                        "text/plain": [
                            "0.18694318521111672"
                        ]
                    },
                    "execution_count": 17,
                    "metadata": {},
                    "output_type": "execute_result"
                }
            ],
            "source": [
                "f(opt_theta, data, y)"
            ]
        },
        {
            "cell_type": "code",
            "execution_count": 18,
            "metadata": {},
            "outputs": [
                {
                    "data": {
                        "application/vnd.jupyter.widget-view+json": {
                            "model_id": "b0b9644bd6fa4126b5ceb890ebeda421",
                            "version_major": 2,
                            "version_minor": 0
                        },
                        "text/plain": [
                            "  0%|          | 0/1000 [00:00<?, ?it/s]"
                        ]
                    },
                    "metadata": {},
                    "output_type": "display_data"
                },
                {
                    "name": "stdout",
                    "output_type": "stream",
                    "text": [
                        "Temps : 00:03:03\n"
                    ]
                }
            ],
            "source": [
                "# Initialisation\n",
                "Theta = np.zeros((M, d))\n",
                "global_theta = np.zeros(d)\n",
                "Lamb = np.zeros((M, d))\n",
                "\n",
                "df_log_admm = []\n",
                "\n",
                "t1 = time.time()\n",
                "for k in trange(K):\n",
                "    # Step 1 : find argmin of objective function\n",
                "    for n in range(M):\n",
                "        sample_data = split_data[n]\n",
                "        sample_y = split_y[n]\n",
                "        lamb = Lamb[n]\n",
                "        res = minimize(\n",
                "            admm_objective_function,\n",
                "            x0=Theta[n],\n",
                "            args=(sample_data, sample_y, lamb, global_theta, rho),\n",
                "        )\n",
                "        assert res.success is True\n",
                "        Theta[n] = res.x\n",
                "\n",
                "    # Step 2 : update global_theta\n",
                "    Sum_Theta = np.sum(Theta, axis=0)\n",
                "    Sum_Lamb = np.sum(Lamb, axis=0)\n",
                "    global_theta = (1 / M) * (Sum_Theta + (1 / rho) * Sum_Lamb)\n",
                "\n",
                "    # Step 3 : update locally lambda\n",
                "    for n in range(M):\n",
                "        Lamb[n] = Lamb[n] + rho * (Theta[n] - global_theta)\n",
                "\n",
                "    for n in range(M):\n",
                "        df_log_admm.append(\n",
                "            {\n",
                "                \"iteration\": k,\n",
                "                \"worker\": n,\n",
                "                \"theta diff norm\": np.linalg.norm(Theta[n] - opt_theta),\n",
                "                \"loss\": f(Theta[n], data, y),\n",
                "            }\n",
                "        )\n",
                "\n",
                "df_log = pd.DataFrame(df_log_admm)\n",
                "\n",
                "print(f\"Temps : {time.strftime('%H:%M:%S', time.gmtime(time.time()-t1))}\")"
            ]
        },
        {
            "cell_type": "code",
            "execution_count": 19,
            "metadata": {},
            "outputs": [
                {
                    "data": {
                        "text/plain": [
                            "array([ 6.96592151e-01, -4.59955917e+00, -7.45348599e-06, -9.18239637e-01,\n",
                            "        3.05211664e-01, -1.65967487e+00, -1.51087523e+00, -5.18460576e-01,\n",
                            "       -1.67817193e+00, -1.24939670e+00, -2.20383999e-01,  1.61665573e+00,\n",
                            "        4.67308796e-01,  1.75138765e-01, -2.33378957e-01, -1.55776386e+00,\n",
                            "        1.22032211e+00, -2.71562129e-01, -1.01574686e+00,  2.15766922e+00,\n",
                            "       -4.66698582e-02, -9.63497499e-02,  1.68577343e+00, -1.47831204e+00,\n",
                            "       -7.54381843e-01, -1.10964851e+00,  1.31111672e-02,  2.40851555e+00,\n",
                            "        4.41832806e-02, -1.04975219e+00, -1.81639183e+00, -7.77834609e-01,\n",
                            "        7.31188288e-02,  3.16899117e-01,  1.38878908e+00])"
                        ]
                    },
                    "execution_count": 19,
                    "metadata": {},
                    "output_type": "execute_result"
                }
            ],
            "source": [
                "Theta[0]"
            ]
        },
        {
            "cell_type": "code",
            "execution_count": 20,
            "metadata": {},
            "outputs": [
                {
                    "data": {
                        "image/png": "[encoded data removed]",
                        "text/plain": [
                            "<Figure size 640x480 with 1 Axes>"
                        ]
                    },
                    "metadata": {},
                    "output_type": "display_data"
                },
                {
                    "data": {
                        "image/png": "[encoded data removed]",
                        "text/plain": [
                            "<Figure size 640x480 with 1 Axes>"
                        ]
                    },
                    "metadata": {},
                    "output_type": "display_data"
                },
                {
                    "data": {
                        "text/html": [
                            "<div>\n",
                            "<style scoped>\n",
                            "    .dataframe tbody tr th:only-of-type {\n",
                            "        vertical-align: middle;\n",
                            "    }\n",
                            "\n",
                            "    .dataframe tbody tr th {\n",
                            "        vertical-align: top;\n",
                            "    }\n",
                            "\n",
                            "    .dataframe thead th {\n",
                            "        text-align: right;\n",
                            "    }\n",
                            "</style>\n",
                            "<table border=\"1\" class=\"dataframe\">\n",
                            "  <thead>\n",
                            "    <tr style=\"text-align: right;\">\n",
                            "      <th></th>\n",
                            "      <th>worker</th>\n",
                            "      <th>theta diff norm</th>\n",
                            "      <th>loss</th>\n",
                            "    </tr>\n",
                            "  </thead>\n",
                            "  <tbody>\n",
                            "    <tr>\n",
                            "      <th>0</th>\n",
                            "      <td>0</td>\n",
                            "      <td>3.952325</td>\n",
                            "      <td>0.163866</td>\n",
                            "    </tr>\n",
                            "    <tr>\n",
                            "      <th>1</th>\n",
                            "      <td>1</td>\n",
                            "      <td>3.952325</td>\n",
                            "      <td>0.163866</td>\n",
                            "    </tr>\n",
                            "    <tr>\n",
                            "      <th>2</th>\n",
                            "      <td>2</td>\n",
                            "      <td>3.952326</td>\n",
                            "      <td>0.163866</td>\n",
                            "    </tr>\n",
                            "    <tr>\n",
                            "      <th>3</th>\n",
                            "      <td>3</td>\n",
                            "      <td>3.952327</td>\n",
                            "      <td>0.163866</td>\n",
                            "    </tr>\n",
                            "  </tbody>\n",
                            "</table>\n",
                            "</div>"
                        ],
                        "text/plain": [
                            "   worker  theta diff norm      loss\n",
                            "0       0         3.952325  0.163866\n",
                            "1       1         3.952325  0.163866\n",
                            "2       2         3.952326  0.163866\n",
                            "3       3         3.952327  0.163866"
                        ]
                    },
                    "metadata": {},
                    "output_type": "display_data"
                }
            ],
            "source": [
                "display_df_log(df_log, data, y, M, Theta, opt_theta)"
            ]
        },
        {
            "cell_type": "code",
            "execution_count": 21,
            "metadata": {},
            "outputs": [
                {
                    "name": "stdout",
                    "output_type": "stream",
                    "text": [
                        "Temps d'exécution total : 00:03:05\n"
                    ]
                }
            ],
            "source": [
                "print(\n",
                "    f\"Temps d'exécution total : {time.strftime('%H:%M:%S', time.gmtime(time.time()-t))}\"\n",
                ")"
            ]
        },
        {
            "cell_type": "code",
            "execution_count": null,
            "metadata": {},
            "outputs": [],
            "source": []
        }
    ],
    "metadata": {
        "colab": {
            "provenance": []
        },
        "kernelspec": {
            "display_name": "Python 3 (ipykernel)",
            "language": "python",
            "name": "python3"
        },
        "language_info": {
            "codemirror_mode": {
                "name": "ipython",
                "version": 3
            },
            "file_extension": ".py",
            "mimetype": "text/x-python",
            "name": "python",
            "nbconvert_exporter": "python",
            "pygments_lexer": "ipython3",
            "version": "3.10.11"
        }
    },
    "nbformat": 4,
    "nbformat_minor": 4
}
